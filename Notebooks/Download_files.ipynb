{
 "cells": [
  {
   "cell_type": "markdown",
   "id": "1faa9531-b22c-425d-a1a7-549a223c493c",
   "metadata": {},
   "source": [
    "# Clean datasets "
   ]
  },
  {
   "cell_type": "code",
   "execution_count": 2,
   "id": "586f5460-4ea8-4c3b-b379-cfe48d05c6cf",
   "metadata": {},
   "outputs": [],
   "source": [
    "import pandas as pd"
   ]
  },
  {
   "cell_type": "code",
   "execution_count": 3,
   "id": "a6a505f5-8214-4c7b-a393-1c0d4e1ca3da",
   "metadata": {},
   "outputs": [
    {
     "name": "stdout",
     "output_type": "stream",
     "text": [
      "Excel file saved successfully at: C:\\Users\\ALEV PC\\Desktop\\marketing_customer_value_analysis.xlsx\n"
     ]
    }
   ],
   "source": [
    "import pandas as pd\n",
    "\n",
    "# URL of the CSV file\n",
    "url = \"https://raw.githubusercontent.com/data-bootcamp-v4/data/main/we_fn_use_c_marketing_customer_value_analysis.csv\"\n",
    "\n",
    "df = pd.read_csv(url)\n",
    "excel_file_path = r\"C:\\Users\\ALEV PC\\Desktop\\marketing_customer_value_analysis.xlsx\"\n",
    "\n",
    "# Save the DataFrame as an Excel file\n",
    "df.to_excel(excel_file_path, index=False)\n",
    "\n",
    "print(\"Excel file saved successfully at:\", excel_file_path)\n"
   ]
  },
  {
   "cell_type": "markdown",
   "id": "37a47fcf-9c93-4ed7-96ab-970e217ff9f4",
   "metadata": {},
   "source": [
    "# Final Merge"
   ]
  },
  {
   "cell_type": "code",
   "execution_count": 4,
   "id": "29ca37f8-114e-4ed4-a29b-193f64908399",
   "metadata": {},
   "outputs": [
    {
     "data": {
      "text/html": [
       "<div>\n",
       "<style scoped>\n",
       "    .dataframe tbody tr th:only-of-type {\n",
       "        vertical-align: middle;\n",
       "    }\n",
       "\n",
       "    .dataframe tbody tr th {\n",
       "        vertical-align: top;\n",
       "    }\n",
       "\n",
       "    .dataframe thead th {\n",
       "        text-align: right;\n",
       "    }\n",
       "</style>\n",
       "<table border=\"1\" class=\"dataframe\">\n",
       "  <thead>\n",
       "    <tr style=\"text-align: right;\">\n",
       "      <th></th>\n",
       "      <th>client_id</th>\n",
       "      <th>visitor_id</th>\n",
       "      <th>visit_id</th>\n",
       "      <th>process_step</th>\n",
       "      <th>date_time</th>\n",
       "      <th>Variation</th>\n",
       "      <th>clnt_tenure_yr</th>\n",
       "      <th>clnt_tenure_mnth</th>\n",
       "      <th>clnt_age</th>\n",
       "      <th>gendr</th>\n",
       "      <th>num_accts</th>\n",
       "      <th>bal</th>\n",
       "      <th>calls_6_mnth</th>\n",
       "      <th>logons_6_mnth</th>\n",
       "    </tr>\n",
       "  </thead>\n",
       "  <tbody>\n",
       "    <tr>\n",
       "      <th>0</th>\n",
       "      <td>169</td>\n",
       "      <td>201385055_71273495308</td>\n",
       "      <td>749567106_99161211863_557568</td>\n",
       "      <td>confirm</td>\n",
       "      <td>2017-04-12 20:23:09</td>\n",
       "      <td>NaN</td>\n",
       "      <td>21.0</td>\n",
       "      <td>262.0</td>\n",
       "      <td>47.5</td>\n",
       "      <td>M</td>\n",
       "      <td>2.0</td>\n",
       "      <td>501570.72</td>\n",
       "      <td>4.0</td>\n",
       "      <td>4.0</td>\n",
       "    </tr>\n",
       "    <tr>\n",
       "      <th>1</th>\n",
       "      <td>169</td>\n",
       "      <td>201385055_71273495308</td>\n",
       "      <td>749567106_99161211863_557568</td>\n",
       "      <td>start</td>\n",
       "      <td>2017-04-12 20:19:36</td>\n",
       "      <td>NaN</td>\n",
       "      <td>21.0</td>\n",
       "      <td>262.0</td>\n",
       "      <td>47.5</td>\n",
       "      <td>M</td>\n",
       "      <td>2.0</td>\n",
       "      <td>501570.72</td>\n",
       "      <td>4.0</td>\n",
       "      <td>4.0</td>\n",
       "    </tr>\n",
       "    <tr>\n",
       "      <th>2</th>\n",
       "      <td>169</td>\n",
       "      <td>201385055_71273495308</td>\n",
       "      <td>749567106_99161211863_557568</td>\n",
       "      <td>step_1</td>\n",
       "      <td>2017-04-12 20:19:45</td>\n",
       "      <td>NaN</td>\n",
       "      <td>21.0</td>\n",
       "      <td>262.0</td>\n",
       "      <td>47.5</td>\n",
       "      <td>M</td>\n",
       "      <td>2.0</td>\n",
       "      <td>501570.72</td>\n",
       "      <td>4.0</td>\n",
       "      <td>4.0</td>\n",
       "    </tr>\n",
       "    <tr>\n",
       "      <th>3</th>\n",
       "      <td>169</td>\n",
       "      <td>201385055_71273495308</td>\n",
       "      <td>749567106_99161211863_557568</td>\n",
       "      <td>step_2</td>\n",
       "      <td>2017-04-12 20:20:31</td>\n",
       "      <td>NaN</td>\n",
       "      <td>21.0</td>\n",
       "      <td>262.0</td>\n",
       "      <td>47.5</td>\n",
       "      <td>M</td>\n",
       "      <td>2.0</td>\n",
       "      <td>501570.72</td>\n",
       "      <td>4.0</td>\n",
       "      <td>4.0</td>\n",
       "    </tr>\n",
       "    <tr>\n",
       "      <th>4</th>\n",
       "      <td>169</td>\n",
       "      <td>201385055_71273495308</td>\n",
       "      <td>749567106_99161211863_557568</td>\n",
       "      <td>step_3</td>\n",
       "      <td>2017-04-12 20:22:05</td>\n",
       "      <td>NaN</td>\n",
       "      <td>21.0</td>\n",
       "      <td>262.0</td>\n",
       "      <td>47.5</td>\n",
       "      <td>M</td>\n",
       "      <td>2.0</td>\n",
       "      <td>501570.72</td>\n",
       "      <td>4.0</td>\n",
       "      <td>4.0</td>\n",
       "    </tr>\n",
       "    <tr>\n",
       "      <th>...</th>\n",
       "      <td>...</td>\n",
       "      <td>...</td>\n",
       "      <td>...</td>\n",
       "      <td>...</td>\n",
       "      <td>...</td>\n",
       "      <td>...</td>\n",
       "      <td>...</td>\n",
       "      <td>...</td>\n",
       "      <td>...</td>\n",
       "      <td>...</td>\n",
       "      <td>...</td>\n",
       "      <td>...</td>\n",
       "      <td>...</td>\n",
       "      <td>...</td>\n",
       "    </tr>\n",
       "    <tr>\n",
       "      <th>755400</th>\n",
       "      <td>9999875</td>\n",
       "      <td>738878760_1556639849</td>\n",
       "      <td>931268933_219402947_599432</td>\n",
       "      <td>start</td>\n",
       "      <td>2017-06-01 22:40:01</td>\n",
       "      <td>NaN</td>\n",
       "      <td>NaN</td>\n",
       "      <td>NaN</td>\n",
       "      <td>NaN</td>\n",
       "      <td>NaN</td>\n",
       "      <td>NaN</td>\n",
       "      <td>NaN</td>\n",
       "      <td>NaN</td>\n",
       "      <td>NaN</td>\n",
       "    </tr>\n",
       "    <tr>\n",
       "      <th>755401</th>\n",
       "      <td>9999875</td>\n",
       "      <td>738878760_1556639849</td>\n",
       "      <td>931268933_219402947_599432</td>\n",
       "      <td>step_1</td>\n",
       "      <td>2017-06-01 22:40:08</td>\n",
       "      <td>NaN</td>\n",
       "      <td>NaN</td>\n",
       "      <td>NaN</td>\n",
       "      <td>NaN</td>\n",
       "      <td>NaN</td>\n",
       "      <td>NaN</td>\n",
       "      <td>NaN</td>\n",
       "      <td>NaN</td>\n",
       "      <td>NaN</td>\n",
       "    </tr>\n",
       "    <tr>\n",
       "      <th>755402</th>\n",
       "      <td>9999875</td>\n",
       "      <td>738878760_1556639849</td>\n",
       "      <td>931268933_219402947_599432</td>\n",
       "      <td>step_1</td>\n",
       "      <td>2017-06-01 22:41:28</td>\n",
       "      <td>NaN</td>\n",
       "      <td>NaN</td>\n",
       "      <td>NaN</td>\n",
       "      <td>NaN</td>\n",
       "      <td>NaN</td>\n",
       "      <td>NaN</td>\n",
       "      <td>NaN</td>\n",
       "      <td>NaN</td>\n",
       "      <td>NaN</td>\n",
       "    </tr>\n",
       "    <tr>\n",
       "      <th>755403</th>\n",
       "      <td>9999875</td>\n",
       "      <td>738878760_1556639849</td>\n",
       "      <td>931268933_219402947_599432</td>\n",
       "      <td>step_2</td>\n",
       "      <td>2017-06-01 22:41:47</td>\n",
       "      <td>NaN</td>\n",
       "      <td>NaN</td>\n",
       "      <td>NaN</td>\n",
       "      <td>NaN</td>\n",
       "      <td>NaN</td>\n",
       "      <td>NaN</td>\n",
       "      <td>NaN</td>\n",
       "      <td>NaN</td>\n",
       "      <td>NaN</td>\n",
       "    </tr>\n",
       "    <tr>\n",
       "      <th>755404</th>\n",
       "      <td>9999875</td>\n",
       "      <td>738878760_1556639849</td>\n",
       "      <td>931268933_219402947_599432</td>\n",
       "      <td>step_3</td>\n",
       "      <td>2017-06-01 22:44:58</td>\n",
       "      <td>NaN</td>\n",
       "      <td>NaN</td>\n",
       "      <td>NaN</td>\n",
       "      <td>NaN</td>\n",
       "      <td>NaN</td>\n",
       "      <td>NaN</td>\n",
       "      <td>NaN</td>\n",
       "      <td>NaN</td>\n",
       "      <td>NaN</td>\n",
       "    </tr>\n",
       "  </tbody>\n",
       "</table>\n",
       "<p>755405 rows × 14 columns</p>\n",
       "</div>"
      ],
      "text/plain": [
       "        client_id             visitor_id                      visit_id  \\\n",
       "0             169  201385055_71273495308  749567106_99161211863_557568   \n",
       "1             169  201385055_71273495308  749567106_99161211863_557568   \n",
       "2             169  201385055_71273495308  749567106_99161211863_557568   \n",
       "3             169  201385055_71273495308  749567106_99161211863_557568   \n",
       "4             169  201385055_71273495308  749567106_99161211863_557568   \n",
       "...           ...                    ...                           ...   \n",
       "755400    9999875   738878760_1556639849    931268933_219402947_599432   \n",
       "755401    9999875   738878760_1556639849    931268933_219402947_599432   \n",
       "755402    9999875   738878760_1556639849    931268933_219402947_599432   \n",
       "755403    9999875   738878760_1556639849    931268933_219402947_599432   \n",
       "755404    9999875   738878760_1556639849    931268933_219402947_599432   \n",
       "\n",
       "       process_step            date_time Variation  clnt_tenure_yr  \\\n",
       "0           confirm  2017-04-12 20:23:09       NaN            21.0   \n",
       "1             start  2017-04-12 20:19:36       NaN            21.0   \n",
       "2            step_1  2017-04-12 20:19:45       NaN            21.0   \n",
       "3            step_2  2017-04-12 20:20:31       NaN            21.0   \n",
       "4            step_3  2017-04-12 20:22:05       NaN            21.0   \n",
       "...             ...                  ...       ...             ...   \n",
       "755400        start  2017-06-01 22:40:01       NaN             NaN   \n",
       "755401       step_1  2017-06-01 22:40:08       NaN             NaN   \n",
       "755402       step_1  2017-06-01 22:41:28       NaN             NaN   \n",
       "755403       step_2  2017-06-01 22:41:47       NaN             NaN   \n",
       "755404       step_3  2017-06-01 22:44:58       NaN             NaN   \n",
       "\n",
       "        clnt_tenure_mnth  clnt_age gendr  num_accts        bal  calls_6_mnth  \\\n",
       "0                  262.0      47.5     M        2.0  501570.72           4.0   \n",
       "1                  262.0      47.5     M        2.0  501570.72           4.0   \n",
       "2                  262.0      47.5     M        2.0  501570.72           4.0   \n",
       "3                  262.0      47.5     M        2.0  501570.72           4.0   \n",
       "4                  262.0      47.5     M        2.0  501570.72           4.0   \n",
       "...                  ...       ...   ...        ...        ...           ...   \n",
       "755400               NaN       NaN   NaN        NaN        NaN           NaN   \n",
       "755401               NaN       NaN   NaN        NaN        NaN           NaN   \n",
       "755402               NaN       NaN   NaN        NaN        NaN           NaN   \n",
       "755403               NaN       NaN   NaN        NaN        NaN           NaN   \n",
       "755404               NaN       NaN   NaN        NaN        NaN           NaN   \n",
       "\n",
       "        logons_6_mnth  \n",
       "0                 4.0  \n",
       "1                 4.0  \n",
       "2                 4.0  \n",
       "3                 4.0  \n",
       "4                 4.0  \n",
       "...               ...  \n",
       "755400            NaN  \n",
       "755401            NaN  \n",
       "755402            NaN  \n",
       "755403            NaN  \n",
       "755404            NaN  \n",
       "\n",
       "[755405 rows x 14 columns]"
      ]
     },
     "execution_count": 4,
     "metadata": {},
     "output_type": "execute_result"
    }
   ],
   "source": [
    "# DF sorted - including time differences in each step, all the users: test, control and unknown group\n",
    "\n",
    "file_path = r'C:\\Users\\ALEV PC\\Desktop\\Project\\Notebooks\\merged_data.csv'\n",
    "df1 = pd.read_csv(file_path)\n",
    "df1"
   ]
  },
  {
   "cell_type": "code",
   "execution_count": 5,
   "id": "c7bba1fd-3c01-49d8-86c3-6853351a8770",
   "metadata": {},
   "outputs": [
    {
     "name": "stdout",
     "output_type": "stream",
     "text": [
      "Unique values in Variation column:\n",
      "Variation\n",
      "Test       177847\n",
      "Control    143462\n",
      "Name: count, dtype: int64\n"
     ]
    }
   ],
   "source": [
    "# Count unique values in the \"Variation\" column\n",
    "variation_counts = df1['Variation'].value_counts()\n",
    "\n",
    "# Display the counts\n",
    "print(\"Unique values in Variation column:\")\n",
    "print(variation_counts)\n"
   ]
  },
  {
   "cell_type": "code",
   "execution_count": 6,
   "id": "8fca502d-64f9-4ba3-9543-e9a943db48cc",
   "metadata": {},
   "outputs": [
    {
     "data": {
      "text/html": [
       "<div>\n",
       "<style scoped>\n",
       "    .dataframe tbody tr th:only-of-type {\n",
       "        vertical-align: middle;\n",
       "    }\n",
       "\n",
       "    .dataframe tbody tr th {\n",
       "        vertical-align: top;\n",
       "    }\n",
       "\n",
       "    .dataframe thead th {\n",
       "        text-align: right;\n",
       "    }\n",
       "</style>\n",
       "<table border=\"1\" class=\"dataframe\">\n",
       "  <thead>\n",
       "    <tr style=\"text-align: right;\">\n",
       "      <th></th>\n",
       "      <th>client_id</th>\n",
       "      <th>visitor_id</th>\n",
       "      <th>visit_id</th>\n",
       "      <th>process_step</th>\n",
       "      <th>date_time</th>\n",
       "      <th>Variation</th>\n",
       "      <th>end_of_the_step</th>\n",
       "      <th>time_diff</th>\n",
       "    </tr>\n",
       "  </thead>\n",
       "  <tbody>\n",
       "    <tr>\n",
       "      <th>0</th>\n",
       "      <td>169</td>\n",
       "      <td>201385055_71273495308</td>\n",
       "      <td>749567106_99161211863_557568</td>\n",
       "      <td>start</td>\n",
       "      <td>2017-04-12 20:19:36</td>\n",
       "      <td>NaN</td>\n",
       "      <td>2017-04-12 20:19:45</td>\n",
       "      <td>0 days 00:00:09</td>\n",
       "    </tr>\n",
       "    <tr>\n",
       "      <th>1</th>\n",
       "      <td>169</td>\n",
       "      <td>201385055_71273495308</td>\n",
       "      <td>749567106_99161211863_557568</td>\n",
       "      <td>step_1</td>\n",
       "      <td>2017-04-12 20:19:45</td>\n",
       "      <td>NaN</td>\n",
       "      <td>2017-04-12 20:20:31</td>\n",
       "      <td>0 days 00:00:46</td>\n",
       "    </tr>\n",
       "    <tr>\n",
       "      <th>2</th>\n",
       "      <td>169</td>\n",
       "      <td>201385055_71273495308</td>\n",
       "      <td>749567106_99161211863_557568</td>\n",
       "      <td>step_2</td>\n",
       "      <td>2017-04-12 20:20:31</td>\n",
       "      <td>NaN</td>\n",
       "      <td>2017-04-12 20:22:05</td>\n",
       "      <td>0 days 00:01:34</td>\n",
       "    </tr>\n",
       "    <tr>\n",
       "      <th>3</th>\n",
       "      <td>169</td>\n",
       "      <td>201385055_71273495308</td>\n",
       "      <td>749567106_99161211863_557568</td>\n",
       "      <td>step_3</td>\n",
       "      <td>2017-04-12 20:22:05</td>\n",
       "      <td>NaN</td>\n",
       "      <td>2017-04-12 20:23:09</td>\n",
       "      <td>0 days 00:01:04</td>\n",
       "    </tr>\n",
       "    <tr>\n",
       "      <th>4</th>\n",
       "      <td>169</td>\n",
       "      <td>201385055_71273495308</td>\n",
       "      <td>749567106_99161211863_557568</td>\n",
       "      <td>confirm</td>\n",
       "      <td>2017-04-12 20:23:09</td>\n",
       "      <td>NaN</td>\n",
       "      <td>NaN</td>\n",
       "      <td>NaN</td>\n",
       "    </tr>\n",
       "    <tr>\n",
       "      <th>...</th>\n",
       "      <td>...</td>\n",
       "      <td>...</td>\n",
       "      <td>...</td>\n",
       "      <td>...</td>\n",
       "      <td>...</td>\n",
       "      <td>...</td>\n",
       "      <td>...</td>\n",
       "      <td>...</td>\n",
       "    </tr>\n",
       "    <tr>\n",
       "      <th>755400</th>\n",
       "      <td>9999875</td>\n",
       "      <td>738878760_1556639849</td>\n",
       "      <td>931268933_219402947_599432</td>\n",
       "      <td>step_1</td>\n",
       "      <td>2017-06-01 22:40:08</td>\n",
       "      <td>NaN</td>\n",
       "      <td>2017-06-01 22:41:28</td>\n",
       "      <td>0 days 00:01:20</td>\n",
       "    </tr>\n",
       "    <tr>\n",
       "      <th>755401</th>\n",
       "      <td>9999875</td>\n",
       "      <td>738878760_1556639849</td>\n",
       "      <td>931268933_219402947_599432</td>\n",
       "      <td>step_1</td>\n",
       "      <td>2017-06-01 22:41:28</td>\n",
       "      <td>NaN</td>\n",
       "      <td>2017-06-01 22:41:47</td>\n",
       "      <td>0 days 00:00:19</td>\n",
       "    </tr>\n",
       "    <tr>\n",
       "      <th>755402</th>\n",
       "      <td>9999875</td>\n",
       "      <td>738878760_1556639849</td>\n",
       "      <td>931268933_219402947_599432</td>\n",
       "      <td>step_2</td>\n",
       "      <td>2017-06-01 22:41:47</td>\n",
       "      <td>NaN</td>\n",
       "      <td>2017-06-01 22:44:58</td>\n",
       "      <td>0 days 00:03:11</td>\n",
       "    </tr>\n",
       "    <tr>\n",
       "      <th>755403</th>\n",
       "      <td>9999875</td>\n",
       "      <td>738878760_1556639849</td>\n",
       "      <td>931268933_219402947_599432</td>\n",
       "      <td>step_3</td>\n",
       "      <td>2017-06-01 22:44:58</td>\n",
       "      <td>NaN</td>\n",
       "      <td>2017-06-01 22:48:39</td>\n",
       "      <td>0 days 00:03:41</td>\n",
       "    </tr>\n",
       "    <tr>\n",
       "      <th>755404</th>\n",
       "      <td>9999875</td>\n",
       "      <td>738878760_1556639849</td>\n",
       "      <td>931268933_219402947_599432</td>\n",
       "      <td>confirm</td>\n",
       "      <td>2017-06-01 22:48:39</td>\n",
       "      <td>NaN</td>\n",
       "      <td>NaN</td>\n",
       "      <td>NaN</td>\n",
       "    </tr>\n",
       "  </tbody>\n",
       "</table>\n",
       "<p>755405 rows × 8 columns</p>\n",
       "</div>"
      ],
      "text/plain": [
       "        client_id             visitor_id                      visit_id  \\\n",
       "0             169  201385055_71273495308  749567106_99161211863_557568   \n",
       "1             169  201385055_71273495308  749567106_99161211863_557568   \n",
       "2             169  201385055_71273495308  749567106_99161211863_557568   \n",
       "3             169  201385055_71273495308  749567106_99161211863_557568   \n",
       "4             169  201385055_71273495308  749567106_99161211863_557568   \n",
       "...           ...                    ...                           ...   \n",
       "755400    9999875   738878760_1556639849    931268933_219402947_599432   \n",
       "755401    9999875   738878760_1556639849    931268933_219402947_599432   \n",
       "755402    9999875   738878760_1556639849    931268933_219402947_599432   \n",
       "755403    9999875   738878760_1556639849    931268933_219402947_599432   \n",
       "755404    9999875   738878760_1556639849    931268933_219402947_599432   \n",
       "\n",
       "       process_step            date_time Variation      end_of_the_step  \\\n",
       "0             start  2017-04-12 20:19:36       NaN  2017-04-12 20:19:45   \n",
       "1            step_1  2017-04-12 20:19:45       NaN  2017-04-12 20:20:31   \n",
       "2            step_2  2017-04-12 20:20:31       NaN  2017-04-12 20:22:05   \n",
       "3            step_3  2017-04-12 20:22:05       NaN  2017-04-12 20:23:09   \n",
       "4           confirm  2017-04-12 20:23:09       NaN                  NaN   \n",
       "...             ...                  ...       ...                  ...   \n",
       "755400       step_1  2017-06-01 22:40:08       NaN  2017-06-01 22:41:28   \n",
       "755401       step_1  2017-06-01 22:41:28       NaN  2017-06-01 22:41:47   \n",
       "755402       step_2  2017-06-01 22:41:47       NaN  2017-06-01 22:44:58   \n",
       "755403       step_3  2017-06-01 22:44:58       NaN  2017-06-01 22:48:39   \n",
       "755404      confirm  2017-06-01 22:48:39       NaN                  NaN   \n",
       "\n",
       "              time_diff  \n",
       "0       0 days 00:00:09  \n",
       "1       0 days 00:00:46  \n",
       "2       0 days 00:01:34  \n",
       "3       0 days 00:01:04  \n",
       "4                   NaN  \n",
       "...                 ...  \n",
       "755400  0 days 00:01:20  \n",
       "755401  0 days 00:00:19  \n",
       "755402  0 days 00:03:11  \n",
       "755403  0 days 00:03:41  \n",
       "755404              NaN  \n",
       "\n",
       "[755405 rows x 8 columns]"
      ]
     },
     "execution_count": 6,
     "metadata": {},
     "output_type": "execute_result"
    }
   ],
   "source": [
    "file_path = r'C:\\Users\\ALEV PC\\Desktop\\Project\\Notebooks\\df_sorted.csv'\n",
    "df2 = pd.read_csv(file_path)\n",
    "df2"
   ]
  },
  {
   "cell_type": "code",
   "execution_count": 11,
   "id": "fe8d8168-a98c-4acf-ada1-9d039093b510",
   "metadata": {},
   "outputs": [
    {
     "data": {
      "text/html": [
       "<div>\n",
       "<style scoped>\n",
       "    .dataframe tbody tr th:only-of-type {\n",
       "        vertical-align: middle;\n",
       "    }\n",
       "\n",
       "    .dataframe tbody tr th {\n",
       "        vertical-align: top;\n",
       "    }\n",
       "\n",
       "    .dataframe thead th {\n",
       "        text-align: right;\n",
       "    }\n",
       "</style>\n",
       "<table border=\"1\" class=\"dataframe\">\n",
       "  <thead>\n",
       "    <tr style=\"text-align: right;\">\n",
       "      <th></th>\n",
       "      <th>client_id</th>\n",
       "      <th>visitor_id</th>\n",
       "      <th>visit_id</th>\n",
       "      <th>process_step</th>\n",
       "      <th>date_time</th>\n",
       "      <th>Variation</th>\n",
       "      <th>clnt_tenure_yr</th>\n",
       "      <th>clnt_tenure_mnth</th>\n",
       "      <th>clnt_age</th>\n",
       "      <th>gendr</th>\n",
       "      <th>num_accts</th>\n",
       "      <th>bal</th>\n",
       "      <th>calls_6_mnth</th>\n",
       "      <th>logons_6_mnth</th>\n",
       "      <th>end_of_the_step</th>\n",
       "      <th>time_diff</th>\n",
       "    </tr>\n",
       "  </thead>\n",
       "  <tbody>\n",
       "    <tr>\n",
       "      <th>0</th>\n",
       "      <td>169</td>\n",
       "      <td>201385055_71273495308</td>\n",
       "      <td>749567106_99161211863_557568</td>\n",
       "      <td>confirm</td>\n",
       "      <td>2017-04-12 20:23:09</td>\n",
       "      <td>NaN</td>\n",
       "      <td>21.0</td>\n",
       "      <td>262.0</td>\n",
       "      <td>47.5</td>\n",
       "      <td>M</td>\n",
       "      <td>2.0</td>\n",
       "      <td>501570.72</td>\n",
       "      <td>4.0</td>\n",
       "      <td>4.0</td>\n",
       "      <td>NaN</td>\n",
       "      <td>NaN</td>\n",
       "    </tr>\n",
       "    <tr>\n",
       "      <th>1</th>\n",
       "      <td>169</td>\n",
       "      <td>201385055_71273495308</td>\n",
       "      <td>749567106_99161211863_557568</td>\n",
       "      <td>start</td>\n",
       "      <td>2017-04-12 20:19:36</td>\n",
       "      <td>NaN</td>\n",
       "      <td>21.0</td>\n",
       "      <td>262.0</td>\n",
       "      <td>47.5</td>\n",
       "      <td>M</td>\n",
       "      <td>2.0</td>\n",
       "      <td>501570.72</td>\n",
       "      <td>4.0</td>\n",
       "      <td>4.0</td>\n",
       "      <td>2017-04-12 20:19:45</td>\n",
       "      <td>0 days 00:00:09</td>\n",
       "    </tr>\n",
       "    <tr>\n",
       "      <th>2</th>\n",
       "      <td>169</td>\n",
       "      <td>201385055_71273495308</td>\n",
       "      <td>749567106_99161211863_557568</td>\n",
       "      <td>step_1</td>\n",
       "      <td>2017-04-12 20:19:45</td>\n",
       "      <td>NaN</td>\n",
       "      <td>21.0</td>\n",
       "      <td>262.0</td>\n",
       "      <td>47.5</td>\n",
       "      <td>M</td>\n",
       "      <td>2.0</td>\n",
       "      <td>501570.72</td>\n",
       "      <td>4.0</td>\n",
       "      <td>4.0</td>\n",
       "      <td>2017-04-12 20:20:31</td>\n",
       "      <td>0 days 00:00:46</td>\n",
       "    </tr>\n",
       "    <tr>\n",
       "      <th>3</th>\n",
       "      <td>169</td>\n",
       "      <td>201385055_71273495308</td>\n",
       "      <td>749567106_99161211863_557568</td>\n",
       "      <td>step_2</td>\n",
       "      <td>2017-04-12 20:20:31</td>\n",
       "      <td>NaN</td>\n",
       "      <td>21.0</td>\n",
       "      <td>262.0</td>\n",
       "      <td>47.5</td>\n",
       "      <td>M</td>\n",
       "      <td>2.0</td>\n",
       "      <td>501570.72</td>\n",
       "      <td>4.0</td>\n",
       "      <td>4.0</td>\n",
       "      <td>2017-04-12 20:22:05</td>\n",
       "      <td>0 days 00:01:34</td>\n",
       "    </tr>\n",
       "    <tr>\n",
       "      <th>4</th>\n",
       "      <td>169</td>\n",
       "      <td>201385055_71273495308</td>\n",
       "      <td>749567106_99161211863_557568</td>\n",
       "      <td>step_3</td>\n",
       "      <td>2017-04-12 20:22:05</td>\n",
       "      <td>NaN</td>\n",
       "      <td>21.0</td>\n",
       "      <td>262.0</td>\n",
       "      <td>47.5</td>\n",
       "      <td>M</td>\n",
       "      <td>2.0</td>\n",
       "      <td>501570.72</td>\n",
       "      <td>4.0</td>\n",
       "      <td>4.0</td>\n",
       "      <td>2017-04-12 20:23:09</td>\n",
       "      <td>0 days 00:01:04</td>\n",
       "    </tr>\n",
       "    <tr>\n",
       "      <th>...</th>\n",
       "      <td>...</td>\n",
       "      <td>...</td>\n",
       "      <td>...</td>\n",
       "      <td>...</td>\n",
       "      <td>...</td>\n",
       "      <td>...</td>\n",
       "      <td>...</td>\n",
       "      <td>...</td>\n",
       "      <td>...</td>\n",
       "      <td>...</td>\n",
       "      <td>...</td>\n",
       "      <td>...</td>\n",
       "      <td>...</td>\n",
       "      <td>...</td>\n",
       "      <td>...</td>\n",
       "      <td>...</td>\n",
       "    </tr>\n",
       "    <tr>\n",
       "      <th>792574</th>\n",
       "      <td>9999875</td>\n",
       "      <td>738878760_1556639849</td>\n",
       "      <td>931268933_219402947_599432</td>\n",
       "      <td>start</td>\n",
       "      <td>2017-06-01 22:40:01</td>\n",
       "      <td>NaN</td>\n",
       "      <td>NaN</td>\n",
       "      <td>NaN</td>\n",
       "      <td>NaN</td>\n",
       "      <td>NaN</td>\n",
       "      <td>NaN</td>\n",
       "      <td>NaN</td>\n",
       "      <td>NaN</td>\n",
       "      <td>NaN</td>\n",
       "      <td>2017-06-01 22:40:08</td>\n",
       "      <td>0 days 00:00:07</td>\n",
       "    </tr>\n",
       "    <tr>\n",
       "      <th>792575</th>\n",
       "      <td>9999875</td>\n",
       "      <td>738878760_1556639849</td>\n",
       "      <td>931268933_219402947_599432</td>\n",
       "      <td>step_1</td>\n",
       "      <td>2017-06-01 22:40:08</td>\n",
       "      <td>NaN</td>\n",
       "      <td>NaN</td>\n",
       "      <td>NaN</td>\n",
       "      <td>NaN</td>\n",
       "      <td>NaN</td>\n",
       "      <td>NaN</td>\n",
       "      <td>NaN</td>\n",
       "      <td>NaN</td>\n",
       "      <td>NaN</td>\n",
       "      <td>2017-06-01 22:41:28</td>\n",
       "      <td>0 days 00:01:20</td>\n",
       "    </tr>\n",
       "    <tr>\n",
       "      <th>792576</th>\n",
       "      <td>9999875</td>\n",
       "      <td>738878760_1556639849</td>\n",
       "      <td>931268933_219402947_599432</td>\n",
       "      <td>step_1</td>\n",
       "      <td>2017-06-01 22:41:28</td>\n",
       "      <td>NaN</td>\n",
       "      <td>NaN</td>\n",
       "      <td>NaN</td>\n",
       "      <td>NaN</td>\n",
       "      <td>NaN</td>\n",
       "      <td>NaN</td>\n",
       "      <td>NaN</td>\n",
       "      <td>NaN</td>\n",
       "      <td>NaN</td>\n",
       "      <td>2017-06-01 22:41:47</td>\n",
       "      <td>0 days 00:00:19</td>\n",
       "    </tr>\n",
       "    <tr>\n",
       "      <th>792577</th>\n",
       "      <td>9999875</td>\n",
       "      <td>738878760_1556639849</td>\n",
       "      <td>931268933_219402947_599432</td>\n",
       "      <td>step_2</td>\n",
       "      <td>2017-06-01 22:41:47</td>\n",
       "      <td>NaN</td>\n",
       "      <td>NaN</td>\n",
       "      <td>NaN</td>\n",
       "      <td>NaN</td>\n",
       "      <td>NaN</td>\n",
       "      <td>NaN</td>\n",
       "      <td>NaN</td>\n",
       "      <td>NaN</td>\n",
       "      <td>NaN</td>\n",
       "      <td>2017-06-01 22:44:58</td>\n",
       "      <td>0 days 00:03:11</td>\n",
       "    </tr>\n",
       "    <tr>\n",
       "      <th>792578</th>\n",
       "      <td>9999875</td>\n",
       "      <td>738878760_1556639849</td>\n",
       "      <td>931268933_219402947_599432</td>\n",
       "      <td>step_3</td>\n",
       "      <td>2017-06-01 22:44:58</td>\n",
       "      <td>NaN</td>\n",
       "      <td>NaN</td>\n",
       "      <td>NaN</td>\n",
       "      <td>NaN</td>\n",
       "      <td>NaN</td>\n",
       "      <td>NaN</td>\n",
       "      <td>NaN</td>\n",
       "      <td>NaN</td>\n",
       "      <td>NaN</td>\n",
       "      <td>2017-06-01 22:48:39</td>\n",
       "      <td>0 days 00:03:41</td>\n",
       "    </tr>\n",
       "  </tbody>\n",
       "</table>\n",
       "<p>792579 rows × 16 columns</p>\n",
       "</div>"
      ],
      "text/plain": [
       "        client_id             visitor_id                      visit_id  \\\n",
       "0             169  201385055_71273495308  749567106_99161211863_557568   \n",
       "1             169  201385055_71273495308  749567106_99161211863_557568   \n",
       "2             169  201385055_71273495308  749567106_99161211863_557568   \n",
       "3             169  201385055_71273495308  749567106_99161211863_557568   \n",
       "4             169  201385055_71273495308  749567106_99161211863_557568   \n",
       "...           ...                    ...                           ...   \n",
       "792574    9999875   738878760_1556639849    931268933_219402947_599432   \n",
       "792575    9999875   738878760_1556639849    931268933_219402947_599432   \n",
       "792576    9999875   738878760_1556639849    931268933_219402947_599432   \n",
       "792577    9999875   738878760_1556639849    931268933_219402947_599432   \n",
       "792578    9999875   738878760_1556639849    931268933_219402947_599432   \n",
       "\n",
       "       process_step            date_time Variation  clnt_tenure_yr  \\\n",
       "0           confirm  2017-04-12 20:23:09       NaN            21.0   \n",
       "1             start  2017-04-12 20:19:36       NaN            21.0   \n",
       "2            step_1  2017-04-12 20:19:45       NaN            21.0   \n",
       "3            step_2  2017-04-12 20:20:31       NaN            21.0   \n",
       "4            step_3  2017-04-12 20:22:05       NaN            21.0   \n",
       "...             ...                  ...       ...             ...   \n",
       "792574        start  2017-06-01 22:40:01       NaN             NaN   \n",
       "792575       step_1  2017-06-01 22:40:08       NaN             NaN   \n",
       "792576       step_1  2017-06-01 22:41:28       NaN             NaN   \n",
       "792577       step_2  2017-06-01 22:41:47       NaN             NaN   \n",
       "792578       step_3  2017-06-01 22:44:58       NaN             NaN   \n",
       "\n",
       "        clnt_tenure_mnth  clnt_age gendr  num_accts        bal  calls_6_mnth  \\\n",
       "0                  262.0      47.5     M        2.0  501570.72           4.0   \n",
       "1                  262.0      47.5     M        2.0  501570.72           4.0   \n",
       "2                  262.0      47.5     M        2.0  501570.72           4.0   \n",
       "3                  262.0      47.5     M        2.0  501570.72           4.0   \n",
       "4                  262.0      47.5     M        2.0  501570.72           4.0   \n",
       "...                  ...       ...   ...        ...        ...           ...   \n",
       "792574               NaN       NaN   NaN        NaN        NaN           NaN   \n",
       "792575               NaN       NaN   NaN        NaN        NaN           NaN   \n",
       "792576               NaN       NaN   NaN        NaN        NaN           NaN   \n",
       "792577               NaN       NaN   NaN        NaN        NaN           NaN   \n",
       "792578               NaN       NaN   NaN        NaN        NaN           NaN   \n",
       "\n",
       "        logons_6_mnth      end_of_the_step        time_diff  \n",
       "0                 4.0                  NaN              NaN  \n",
       "1                 4.0  2017-04-12 20:19:45  0 days 00:00:09  \n",
       "2                 4.0  2017-04-12 20:20:31  0 days 00:00:46  \n",
       "3                 4.0  2017-04-12 20:22:05  0 days 00:01:34  \n",
       "4                 4.0  2017-04-12 20:23:09  0 days 00:01:04  \n",
       "...               ...                  ...              ...  \n",
       "792574            NaN  2017-06-01 22:40:08  0 days 00:00:07  \n",
       "792575            NaN  2017-06-01 22:41:28  0 days 00:01:20  \n",
       "792576            NaN  2017-06-01 22:41:47  0 days 00:00:19  \n",
       "792577            NaN  2017-06-01 22:44:58  0 days 00:03:11  \n",
       "792578            NaN  2017-06-01 22:48:39  0 days 00:03:41  \n",
       "\n",
       "[792579 rows x 16 columns]"
      ]
     },
     "execution_count": 11,
     "metadata": {},
     "output_type": "execute_result"
    }
   ],
   "source": [
    "import pandas as pd\n",
    "\n",
    "df = pd.merge(df1, df2, on=['client_id', 'visitor_id', 'visit_id', 'process_step', 'date_time', 'Variation'], how = 'inner')\n",
    "df\n"
   ]
  },
  {
   "cell_type": "code",
   "execution_count": 14,
   "id": "7abebc27-d088-43ed-bf15-c0a2742875b0",
   "metadata": {},
   "outputs": [
    {
     "data": {
      "text/html": [
       "<div>\n",
       "<style scoped>\n",
       "    .dataframe tbody tr th:only-of-type {\n",
       "        vertical-align: middle;\n",
       "    }\n",
       "\n",
       "    .dataframe tbody tr th {\n",
       "        vertical-align: top;\n",
       "    }\n",
       "\n",
       "    .dataframe thead th {\n",
       "        text-align: right;\n",
       "    }\n",
       "</style>\n",
       "<table border=\"1\" class=\"dataframe\">\n",
       "  <thead>\n",
       "    <tr style=\"text-align: right;\">\n",
       "      <th></th>\n",
       "      <th>client_id</th>\n",
       "      <th>visitor_id</th>\n",
       "      <th>visit_id</th>\n",
       "      <th>process_step</th>\n",
       "      <th>date_time</th>\n",
       "      <th>Variation</th>\n",
       "      <th>clnt_tenure_yr</th>\n",
       "      <th>clnt_tenure_mnth</th>\n",
       "      <th>clnt_age</th>\n",
       "      <th>gendr</th>\n",
       "      <th>num_accts</th>\n",
       "      <th>bal</th>\n",
       "      <th>calls_6_mnth</th>\n",
       "      <th>logons_6_mnth</th>\n",
       "      <th>end_of_the_step</th>\n",
       "      <th>time_diff</th>\n",
       "    </tr>\n",
       "  </thead>\n",
       "  <tbody>\n",
       "    <tr>\n",
       "      <th>0</th>\n",
       "      <td>169</td>\n",
       "      <td>201385055_71273495308</td>\n",
       "      <td>749567106_99161211863_557568</td>\n",
       "      <td>confirm</td>\n",
       "      <td>2017-04-12 20:23:09</td>\n",
       "      <td>NaN</td>\n",
       "      <td>21</td>\n",
       "      <td>262</td>\n",
       "      <td>47.5</td>\n",
       "      <td>M</td>\n",
       "      <td>2</td>\n",
       "      <td>501570.72</td>\n",
       "      <td>4</td>\n",
       "      <td>4</td>\n",
       "      <td>NaN</td>\n",
       "      <td>NaN</td>\n",
       "    </tr>\n",
       "    <tr>\n",
       "      <th>1</th>\n",
       "      <td>169</td>\n",
       "      <td>201385055_71273495308</td>\n",
       "      <td>749567106_99161211863_557568</td>\n",
       "      <td>start</td>\n",
       "      <td>2017-04-12 20:19:36</td>\n",
       "      <td>NaN</td>\n",
       "      <td>21</td>\n",
       "      <td>262</td>\n",
       "      <td>47.5</td>\n",
       "      <td>M</td>\n",
       "      <td>2</td>\n",
       "      <td>501570.72</td>\n",
       "      <td>4</td>\n",
       "      <td>4</td>\n",
       "      <td>2017-04-12 20:19:45</td>\n",
       "      <td>0 days 00:00:09</td>\n",
       "    </tr>\n",
       "    <tr>\n",
       "      <th>2</th>\n",
       "      <td>169</td>\n",
       "      <td>201385055_71273495308</td>\n",
       "      <td>749567106_99161211863_557568</td>\n",
       "      <td>step_1</td>\n",
       "      <td>2017-04-12 20:19:45</td>\n",
       "      <td>NaN</td>\n",
       "      <td>21</td>\n",
       "      <td>262</td>\n",
       "      <td>47.5</td>\n",
       "      <td>M</td>\n",
       "      <td>2</td>\n",
       "      <td>501570.72</td>\n",
       "      <td>4</td>\n",
       "      <td>4</td>\n",
       "      <td>2017-04-12 20:20:31</td>\n",
       "      <td>0 days 00:00:46</td>\n",
       "    </tr>\n",
       "    <tr>\n",
       "      <th>3</th>\n",
       "      <td>169</td>\n",
       "      <td>201385055_71273495308</td>\n",
       "      <td>749567106_99161211863_557568</td>\n",
       "      <td>step_2</td>\n",
       "      <td>2017-04-12 20:20:31</td>\n",
       "      <td>NaN</td>\n",
       "      <td>21</td>\n",
       "      <td>262</td>\n",
       "      <td>47.5</td>\n",
       "      <td>M</td>\n",
       "      <td>2</td>\n",
       "      <td>501570.72</td>\n",
       "      <td>4</td>\n",
       "      <td>4</td>\n",
       "      <td>2017-04-12 20:22:05</td>\n",
       "      <td>0 days 00:01:34</td>\n",
       "    </tr>\n",
       "    <tr>\n",
       "      <th>4</th>\n",
       "      <td>169</td>\n",
       "      <td>201385055_71273495308</td>\n",
       "      <td>749567106_99161211863_557568</td>\n",
       "      <td>step_3</td>\n",
       "      <td>2017-04-12 20:22:05</td>\n",
       "      <td>NaN</td>\n",
       "      <td>21</td>\n",
       "      <td>262</td>\n",
       "      <td>47.5</td>\n",
       "      <td>M</td>\n",
       "      <td>2</td>\n",
       "      <td>501570.72</td>\n",
       "      <td>4</td>\n",
       "      <td>4</td>\n",
       "      <td>2017-04-12 20:23:09</td>\n",
       "      <td>0 days 00:01:04</td>\n",
       "    </tr>\n",
       "    <tr>\n",
       "      <th>...</th>\n",
       "      <td>...</td>\n",
       "      <td>...</td>\n",
       "      <td>...</td>\n",
       "      <td>...</td>\n",
       "      <td>...</td>\n",
       "      <td>...</td>\n",
       "      <td>...</td>\n",
       "      <td>...</td>\n",
       "      <td>...</td>\n",
       "      <td>...</td>\n",
       "      <td>...</td>\n",
       "      <td>...</td>\n",
       "      <td>...</td>\n",
       "      <td>...</td>\n",
       "      <td>...</td>\n",
       "      <td>...</td>\n",
       "    </tr>\n",
       "    <tr>\n",
       "      <th>792574</th>\n",
       "      <td>9999875</td>\n",
       "      <td>738878760_1556639849</td>\n",
       "      <td>931268933_219402947_599432</td>\n",
       "      <td>start</td>\n",
       "      <td>2017-06-01 22:40:01</td>\n",
       "      <td>NaN</td>\n",
       "      <td>NaN</td>\n",
       "      <td>NaN</td>\n",
       "      <td>NaN</td>\n",
       "      <td>NaN</td>\n",
       "      <td>NaN</td>\n",
       "      <td>NaN</td>\n",
       "      <td>NaN</td>\n",
       "      <td>NaN</td>\n",
       "      <td>2017-06-01 22:40:08</td>\n",
       "      <td>0 days 00:00:07</td>\n",
       "    </tr>\n",
       "    <tr>\n",
       "      <th>792575</th>\n",
       "      <td>9999875</td>\n",
       "      <td>738878760_1556639849</td>\n",
       "      <td>931268933_219402947_599432</td>\n",
       "      <td>step_1</td>\n",
       "      <td>2017-06-01 22:40:08</td>\n",
       "      <td>NaN</td>\n",
       "      <td>NaN</td>\n",
       "      <td>NaN</td>\n",
       "      <td>NaN</td>\n",
       "      <td>NaN</td>\n",
       "      <td>NaN</td>\n",
       "      <td>NaN</td>\n",
       "      <td>NaN</td>\n",
       "      <td>NaN</td>\n",
       "      <td>2017-06-01 22:41:28</td>\n",
       "      <td>0 days 00:01:20</td>\n",
       "    </tr>\n",
       "    <tr>\n",
       "      <th>792576</th>\n",
       "      <td>9999875</td>\n",
       "      <td>738878760_1556639849</td>\n",
       "      <td>931268933_219402947_599432</td>\n",
       "      <td>step_1</td>\n",
       "      <td>2017-06-01 22:41:28</td>\n",
       "      <td>NaN</td>\n",
       "      <td>NaN</td>\n",
       "      <td>NaN</td>\n",
       "      <td>NaN</td>\n",
       "      <td>NaN</td>\n",
       "      <td>NaN</td>\n",
       "      <td>NaN</td>\n",
       "      <td>NaN</td>\n",
       "      <td>NaN</td>\n",
       "      <td>2017-06-01 22:41:47</td>\n",
       "      <td>0 days 00:00:19</td>\n",
       "    </tr>\n",
       "    <tr>\n",
       "      <th>792577</th>\n",
       "      <td>9999875</td>\n",
       "      <td>738878760_1556639849</td>\n",
       "      <td>931268933_219402947_599432</td>\n",
       "      <td>step_2</td>\n",
       "      <td>2017-06-01 22:41:47</td>\n",
       "      <td>NaN</td>\n",
       "      <td>NaN</td>\n",
       "      <td>NaN</td>\n",
       "      <td>NaN</td>\n",
       "      <td>NaN</td>\n",
       "      <td>NaN</td>\n",
       "      <td>NaN</td>\n",
       "      <td>NaN</td>\n",
       "      <td>NaN</td>\n",
       "      <td>2017-06-01 22:44:58</td>\n",
       "      <td>0 days 00:03:11</td>\n",
       "    </tr>\n",
       "    <tr>\n",
       "      <th>792578</th>\n",
       "      <td>9999875</td>\n",
       "      <td>738878760_1556639849</td>\n",
       "      <td>931268933_219402947_599432</td>\n",
       "      <td>step_3</td>\n",
       "      <td>2017-06-01 22:44:58</td>\n",
       "      <td>NaN</td>\n",
       "      <td>NaN</td>\n",
       "      <td>NaN</td>\n",
       "      <td>NaN</td>\n",
       "      <td>NaN</td>\n",
       "      <td>NaN</td>\n",
       "      <td>NaN</td>\n",
       "      <td>NaN</td>\n",
       "      <td>NaN</td>\n",
       "      <td>2017-06-01 22:48:39</td>\n",
       "      <td>0 days 00:03:41</td>\n",
       "    </tr>\n",
       "  </tbody>\n",
       "</table>\n",
       "<p>792579 rows × 16 columns</p>\n",
       "</div>"
      ],
      "text/plain": [
       "        client_id             visitor_id                      visit_id  \\\n",
       "0             169  201385055_71273495308  749567106_99161211863_557568   \n",
       "1             169  201385055_71273495308  749567106_99161211863_557568   \n",
       "2             169  201385055_71273495308  749567106_99161211863_557568   \n",
       "3             169  201385055_71273495308  749567106_99161211863_557568   \n",
       "4             169  201385055_71273495308  749567106_99161211863_557568   \n",
       "...           ...                    ...                           ...   \n",
       "792574    9999875   738878760_1556639849    931268933_219402947_599432   \n",
       "792575    9999875   738878760_1556639849    931268933_219402947_599432   \n",
       "792576    9999875   738878760_1556639849    931268933_219402947_599432   \n",
       "792577    9999875   738878760_1556639849    931268933_219402947_599432   \n",
       "792578    9999875   738878760_1556639849    931268933_219402947_599432   \n",
       "\n",
       "       process_step            date_time Variation clnt_tenure_yr  \\\n",
       "0           confirm  2017-04-12 20:23:09       NaN             21   \n",
       "1             start  2017-04-12 20:19:36       NaN             21   \n",
       "2            step_1  2017-04-12 20:19:45       NaN             21   \n",
       "3            step_2  2017-04-12 20:20:31       NaN             21   \n",
       "4            step_3  2017-04-12 20:22:05       NaN             21   \n",
       "...             ...                  ...       ...            ...   \n",
       "792574        start  2017-06-01 22:40:01       NaN            NaN   \n",
       "792575       step_1  2017-06-01 22:40:08       NaN            NaN   \n",
       "792576       step_1  2017-06-01 22:41:28       NaN            NaN   \n",
       "792577       step_2  2017-06-01 22:41:47       NaN            NaN   \n",
       "792578       step_3  2017-06-01 22:44:58       NaN            NaN   \n",
       "\n",
       "       clnt_tenure_mnth clnt_age gendr num_accts        bal calls_6_mnth  \\\n",
       "0                   262     47.5     M         2  501570.72            4   \n",
       "1                   262     47.5     M         2  501570.72            4   \n",
       "2                   262     47.5     M         2  501570.72            4   \n",
       "3                   262     47.5     M         2  501570.72            4   \n",
       "4                   262     47.5     M         2  501570.72            4   \n",
       "...                 ...      ...   ...       ...        ...          ...   \n",
       "792574              NaN      NaN   NaN       NaN        NaN          NaN   \n",
       "792575              NaN      NaN   NaN       NaN        NaN          NaN   \n",
       "792576              NaN      NaN   NaN       NaN        NaN          NaN   \n",
       "792577              NaN      NaN   NaN       NaN        NaN          NaN   \n",
       "792578              NaN      NaN   NaN       NaN        NaN          NaN   \n",
       "\n",
       "       logons_6_mnth      end_of_the_step        time_diff  \n",
       "0                  4                  NaN              NaN  \n",
       "1                  4  2017-04-12 20:19:45  0 days 00:00:09  \n",
       "2                  4  2017-04-12 20:20:31  0 days 00:00:46  \n",
       "3                  4  2017-04-12 20:22:05  0 days 00:01:34  \n",
       "4                  4  2017-04-12 20:23:09  0 days 00:01:04  \n",
       "...              ...                  ...              ...  \n",
       "792574           NaN  2017-06-01 22:40:08  0 days 00:00:07  \n",
       "792575           NaN  2017-06-01 22:41:28  0 days 00:01:20  \n",
       "792576           NaN  2017-06-01 22:41:47  0 days 00:00:19  \n",
       "792577           NaN  2017-06-01 22:44:58  0 days 00:03:11  \n",
       "792578           NaN  2017-06-01 22:48:39  0 days 00:03:41  \n",
       "\n",
       "[792579 rows x 16 columns]"
      ]
     },
     "execution_count": 14,
     "metadata": {},
     "output_type": "execute_result"
    }
   ],
   "source": [
    "# Define the columns to fix\n",
    "columns_to_fix = ['clnt_tenure_yr', 'clnt_tenure_mnth', 'num_accts', 'calls_6_mnth', 'logons_6_mnth', 'clnt_age']\n",
    "\n",
    "# Replace \".0\" with an empty string for non-null values in the specified columns\n",
    "for column in columns_to_fix:\n",
    "    df[column] = df[column].apply(lambda x: str(x).replace('.0', '') if pd.notnull(x) else x)\n",
    "df['clnt_age'] = df['clnt_age'].round()\n",
    "# Save the resulting DataFrame\n",
    "df.to_csv('completed_clients.csv', index=False)\n",
    "df"
   ]
  },
  {
   "cell_type": "code",
   "execution_count": 13,
   "id": "fde7fba3-91d6-46ce-ba29-2c277356f373",
   "metadata": {},
   "outputs": [],
   "source": [
    "df.to_excel('data.xlsx', index=False)\n"
   ]
  },
  {
   "cell_type": "code",
   "execution_count": null,
   "id": "b7600c46-bbfb-4099-a0e5-e8a8e079dd7d",
   "metadata": {},
   "outputs": [],
   "source": []
  },
  {
   "cell_type": "code",
   "execution_count": 16,
   "id": "0a61b073-2f56-4277-affb-39cecbde46b8",
   "metadata": {},
   "outputs": [
    {
     "name": "stderr",
     "output_type": "stream",
     "text": [
      "WARNING: pip is being invoked by an old script wrapper. This will fail in a future version of pip.\n",
      "Please see https://github.com/pypa/pip/issues/5599 for advice on fixing the underlying issue.\n",
      "To avoid this problem you can invoke Python with '-m pip' instead of running pip directly.\n"
     ]
    },
    {
     "data": {
      "text/html": [
       "<pre style=\"white-space:pre;overflow-x:auto;line-height:normal;font-family:Menlo,'DejaVu Sans Mono',consolas,'Courier New',monospace\">Collecting tabpy\n",
       "</pre>\n"
      ],
      "text/plain": [
       "Collecting tabpy\n"
      ]
     },
     "metadata": {},
     "output_type": "display_data"
    },
    {
     "data": {
      "text/html": [
       "<pre style=\"white-space:pre;overflow-x:auto;line-height:normal;font-family:Menlo,'DejaVu Sans Mono',consolas,'Courier New',monospace\">  Using cached tabpy-2.9.0.tar.gz (461 kB)\n",
       "</pre>\n"
      ],
      "text/plain": [
       "  Using cached tabpy-2.9.0.tar.gz (461 kB)\n"
      ]
     },
     "metadata": {},
     "output_type": "display_data"
    },
    {
     "data": {
      "text/html": [
       "<pre style=\"white-space:pre;overflow-x:auto;line-height:normal;font-family:Menlo,'DejaVu Sans Mono',consolas,'Courier New',monospace\">  Preparing metadata (setup.py): started\n",
       "</pre>\n"
      ],
      "text/plain": [
       "  Preparing metadata (setup.py): started\n"
      ]
     },
     "metadata": {},
     "output_type": "display_data"
    },
    {
     "data": {
      "text/html": [
       "<pre style=\"white-space:pre;overflow-x:auto;line-height:normal;font-family:Menlo,'DejaVu Sans Mono',consolas,'Courier New',monospace\">  Preparing metadata (setup.py): finished with status 'done'\n",
       "</pre>\n"
      ],
      "text/plain": [
       "  Preparing metadata (setup.py): finished with status 'done'\n"
      ]
     },
     "metadata": {},
     "output_type": "display_data"
    },
    {
     "data": {
      "text/html": [
       "<pre style=\"white-space:pre;overflow-x:auto;line-height:normal;font-family:Menlo,'DejaVu Sans Mono',consolas,'Courier New',monospace\">Collecting cloudpickle (from tabpy)\n",
       "</pre>\n"
      ],
      "text/plain": [
       "Collecting cloudpickle (from tabpy)\n"
      ]
     },
     "metadata": {},
     "output_type": "display_data"
    },
    {
     "data": {
      "text/html": [
       "<pre style=\"white-space:pre;overflow-x:auto;line-height:normal;font-family:Menlo,'DejaVu Sans Mono',consolas,'Courier New',monospace\">  Downloading cloudpickle-3.0.0-py3-none-any.whl.metadata (7.0 kB)\n",
       "</pre>\n"
      ],
      "text/plain": [
       "  Downloading cloudpickle-3.0.0-py3-none-any.whl.metadata (7.0 kB)\n"
      ]
     },
     "metadata": {},
     "output_type": "display_data"
    },
    {
     "data": {
      "text/html": [
       "<pre style=\"white-space:pre;overflow-x:auto;line-height:normal;font-family:Menlo,'DejaVu Sans Mono',consolas,'Courier New',monospace\">Collecting configparser (from tabpy)\n",
       "</pre>\n"
      ],
      "text/plain": [
       "Collecting configparser (from tabpy)\n"
      ]
     },
     "metadata": {},
     "output_type": "display_data"
    },
    {
     "data": {
      "text/html": [
       "<pre style=\"white-space:pre;overflow-x:auto;line-height:normal;font-family:Menlo,'DejaVu Sans Mono',consolas,'Courier New',monospace\">  Downloading configparser-6.0.1-py3-none-any.whl.metadata (10 kB)\n",
       "</pre>\n"
      ],
      "text/plain": [
       "  Downloading configparser-6.0.1-py3-none-any.whl.metadata (10 kB)\n"
      ]
     },
     "metadata": {},
     "output_type": "display_data"
    },
    {
     "data": {
      "text/html": [
       "<pre style=\"white-space:pre;overflow-x:auto;line-height:normal;font-family:Menlo,'DejaVu Sans Mono',consolas,'Courier New',monospace\">Collecting coverage (from tabpy)\n",
       "</pre>\n"
      ],
      "text/plain": [
       "Collecting coverage (from tabpy)\n"
      ]
     },
     "metadata": {},
     "output_type": "display_data"
    },
    {
     "data": {
      "text/html": [
       "<pre style=\"white-space:pre;overflow-x:auto;line-height:normal;font-family:Menlo,'DejaVu Sans Mono',consolas,'Courier New',monospace\">  Downloading coverage-7.4.4-cp311-cp311-win_amd64.whl.metadata (8.4 kB)\n",
       "</pre>\n"
      ],
      "text/plain": [
       "  Downloading coverage-7.4.4-cp311-cp311-win_amd64.whl.metadata (8.4 kB)\n"
      ]
     },
     "metadata": {},
     "output_type": "display_data"
    },
    {
     "data": {
      "text/html": [
       "<pre style=\"white-space:pre;overflow-x:auto;line-height:normal;font-family:Menlo,'DejaVu Sans Mono',consolas,'Courier New',monospace\">Collecting coveralls (from tabpy)\n",
       "</pre>\n"
      ],
      "text/plain": [
       "Collecting coveralls (from tabpy)\n"
      ]
     },
     "metadata": {},
     "output_type": "display_data"
    },
    {
     "data": {
      "text/html": [
       "<pre style=\"white-space:pre;overflow-x:auto;line-height:normal;font-family:Menlo,'DejaVu Sans Mono',consolas,'Courier New',monospace\">  Downloading coveralls-3.3.1-py2.py3-none-any.whl.metadata (5.0 kB)\n",
       "</pre>\n"
      ],
      "text/plain": [
       "  Downloading coveralls-3.3.1-py2.py3-none-any.whl.metadata (5.0 kB)\n"
      ]
     },
     "metadata": {},
     "output_type": "display_data"
    },
    {
     "data": {
      "text/html": [
       "<pre style=\"white-space:pre;overflow-x:auto;line-height:normal;font-family:Menlo,'DejaVu Sans Mono',consolas,'Courier New',monospace\">Collecting docopt (from tabpy)\n",
       "</pre>\n"
      ],
      "text/plain": [
       "Collecting docopt (from tabpy)\n"
      ]
     },
     "metadata": {},
     "output_type": "display_data"
    },
    {
     "data": {
      "text/html": [
       "<pre style=\"white-space:pre;overflow-x:auto;line-height:normal;font-family:Menlo,'DejaVu Sans Mono',consolas,'Courier New',monospace\">  Downloading docopt-0.6.2.tar.gz (25 kB)\n",
       "</pre>\n"
      ],
      "text/plain": [
       "  Downloading docopt-0.6.2.tar.gz (25 kB)\n"
      ]
     },
     "metadata": {},
     "output_type": "display_data"
    },
    {
     "data": {
      "text/html": [
       "<pre style=\"white-space:pre;overflow-x:auto;line-height:normal;font-family:Menlo,'DejaVu Sans Mono',consolas,'Courier New',monospace\">  Preparing metadata (setup.py): started\n",
       "</pre>\n"
      ],
      "text/plain": [
       "  Preparing metadata (setup.py): started\n"
      ]
     },
     "metadata": {},
     "output_type": "display_data"
    },
    {
     "data": {
      "text/html": [
       "<pre style=\"white-space:pre;overflow-x:auto;line-height:normal;font-family:Menlo,'DejaVu Sans Mono',consolas,'Courier New',monospace\">  Preparing metadata (setup.py): finished with status 'done'\n",
       "</pre>\n"
      ],
      "text/plain": [
       "  Preparing metadata (setup.py): finished with status 'done'\n"
      ]
     },
     "metadata": {},
     "output_type": "display_data"
    },
    {
     "data": {
      "text/html": [
       "<pre style=\"white-space:pre;overflow-x:auto;line-height:normal;font-family:Menlo,'DejaVu Sans Mono',consolas,'Courier New',monospace\">Collecting future (from tabpy)\n",
       "</pre>\n"
      ],
      "text/plain": [
       "Collecting future (from tabpy)\n"
      ]
     },
     "metadata": {},
     "output_type": "display_data"
    },
    {
     "data": {
      "text/html": [
       "<pre style=\"white-space:pre;overflow-x:auto;line-height:normal;font-family:Menlo,'DejaVu Sans Mono',consolas,'Courier New',monospace\">  Downloading future-1.0.0-py3-none-any.whl.metadata (4.0 kB)\n",
       "</pre>\n"
      ],
      "text/plain": [
       "  Downloading future-1.0.0-py3-none-any.whl.metadata (4.0 kB)\n"
      ]
     },
     "metadata": {},
     "output_type": "display_data"
    },
    {
     "data": {
      "text/html": [
       "<pre style=\"white-space:pre;overflow-x:auto;line-height:normal;font-family:Menlo,'DejaVu Sans Mono',consolas,'Courier New',monospace\">Collecting genson (from tabpy)\n",
       "</pre>\n"
      ],
      "text/plain": [
       "Collecting genson (from tabpy)\n"
      ]
     },
     "metadata": {},
     "output_type": "display_data"
    },
    {
     "data": {
      "text/html": [
       "<pre style=\"white-space:pre;overflow-x:auto;line-height:normal;font-family:Menlo,'DejaVu Sans Mono',consolas,'Courier New',monospace\">  Downloading genson-1.2.2.tar.gz (34 kB)\n",
       "</pre>\n"
      ],
      "text/plain": [
       "  Downloading genson-1.2.2.tar.gz (34 kB)\n"
      ]
     },
     "metadata": {},
     "output_type": "display_data"
    },
    {
     "data": {
      "text/html": [
       "<pre style=\"white-space:pre;overflow-x:auto;line-height:normal;font-family:Menlo,'DejaVu Sans Mono',consolas,'Courier New',monospace\">  Preparing metadata (setup.py): started\n",
       "</pre>\n"
      ],
      "text/plain": [
       "  Preparing metadata (setup.py): started\n"
      ]
     },
     "metadata": {},
     "output_type": "display_data"
    },
    {
     "data": {
      "text/html": [
       "<pre style=\"white-space:pre;overflow-x:auto;line-height:normal;font-family:Menlo,'DejaVu Sans Mono',consolas,'Courier New',monospace\">  Preparing metadata (setup.py): finished with status 'done'\n",
       "</pre>\n"
      ],
      "text/plain": [
       "  Preparing metadata (setup.py): finished with status 'done'\n"
      ]
     },
     "metadata": {},
     "output_type": "display_data"
    },
    {
     "data": {
      "text/html": [
       "<pre style=\"white-space:pre;overflow-x:auto;line-height:normal;font-family:Menlo,'DejaVu Sans Mono',consolas,'Courier New',monospace\">Collecting hypothesis (from tabpy)\n",
       "</pre>\n"
      ],
      "text/plain": [
       "Collecting hypothesis (from tabpy)\n"
      ]
     },
     "metadata": {},
     "output_type": "display_data"
    },
    {
     "data": {
      "text/html": [
       "<pre style=\"white-space:pre;overflow-x:auto;line-height:normal;font-family:Menlo,'DejaVu Sans Mono',consolas,'Courier New',monospace\">  Downloading hypothesis-6.99.13-py3-none-any.whl.metadata (6.3 kB)\n",
       "</pre>\n"
      ],
      "text/plain": [
       "  Downloading hypothesis-6.99.13-py3-none-any.whl.metadata (6.3 kB)\n"
      ]
     },
     "metadata": {},
     "output_type": "display_data"
    },
    {
     "data": {
      "text/html": [
       "<pre style=\"white-space:pre;overflow-x:auto;line-height:normal;font-family:Menlo,'DejaVu Sans Mono',consolas,'Courier New',monospace\">Requirement already satisfied: jsonschema in c:\\users\\alev pc\\desktop\\project\\venv\\lib\\site-packages (from tabpy) (4.21.1)\n",
       "</pre>\n"
      ],
      "text/plain": [
       "Requirement already satisfied: jsonschema in c:\\users\\alev pc\\desktop\\project\\venv\\lib\\site-packages (from tabpy) (4.21.1)\n"
      ]
     },
     "metadata": {},
     "output_type": "display_data"
    },
    {
     "data": {
      "text/html": [
       "<pre style=\"white-space:pre;overflow-x:auto;line-height:normal;font-family:Menlo,'DejaVu Sans Mono',consolas,'Courier New',monospace\">Collecting mock (from tabpy)\n",
       "</pre>\n"
      ],
      "text/plain": [
       "Collecting mock (from tabpy)\n"
      ]
     },
     "metadata": {},
     "output_type": "display_data"
    },
    {
     "data": {
      "text/html": [
       "<pre style=\"white-space:pre;overflow-x:auto;line-height:normal;font-family:Menlo,'DejaVu Sans Mono',consolas,'Courier New',monospace\">  Downloading mock-5.1.0-py3-none-any.whl.metadata (3.0 kB)\n",
       "</pre>\n"
      ],
      "text/plain": [
       "  Downloading mock-5.1.0-py3-none-any.whl.metadata (3.0 kB)\n"
      ]
     },
     "metadata": {},
     "output_type": "display_data"
    },
    {
     "data": {
      "text/html": [
       "<pre style=\"white-space:pre;overflow-x:auto;line-height:normal;font-family:Menlo,'DejaVu Sans Mono',consolas,'Courier New',monospace\">Collecting nltk (from tabpy)\n",
       "</pre>\n"
      ],
      "text/plain": [
       "Collecting nltk (from tabpy)\n"
      ]
     },
     "metadata": {},
     "output_type": "display_data"
    },
    {
     "data": {
      "text/html": [
       "<pre style=\"white-space:pre;overflow-x:auto;line-height:normal;font-family:Menlo,'DejaVu Sans Mono',consolas,'Courier New',monospace\">  Downloading nltk-3.8.1-py3-none-any.whl.metadata (2.8 kB)\n",
       "</pre>\n"
      ],
      "text/plain": [
       "  Downloading nltk-3.8.1-py3-none-any.whl.metadata (2.8 kB)\n"
      ]
     },
     "metadata": {},
     "output_type": "display_data"
    },
    {
     "data": {
      "text/html": [
       "<pre style=\"white-space:pre;overflow-x:auto;line-height:normal;font-family:Menlo,'DejaVu Sans Mono',consolas,'Courier New',monospace\">Requirement already satisfied: numpy in c:\\users\\alev pc\\desktop\\project\\venv\\lib\\site-packages (from tabpy) (1.26.4)\n",
       "</pre>\n"
      ],
      "text/plain": [
       "Requirement already satisfied: numpy in c:\\users\\alev pc\\desktop\\project\\venv\\lib\\site-packages (from tabpy) (1.26.4)\n"
      ]
     },
     "metadata": {},
     "output_type": "display_data"
    },
    {
     "data": {
      "text/html": [
       "<pre style=\"white-space:pre;overflow-x:auto;line-height:normal;font-family:Menlo,'DejaVu Sans Mono',consolas,'Courier New',monospace\">Requirement already satisfied: pandas in c:\\users\\alev pc\\desktop\\project\\venv\\lib\\site-packages (from tabpy) (2.2.1)\n",
       "</pre>\n"
      ],
      "text/plain": [
       "Requirement already satisfied: pandas in c:\\users\\alev pc\\desktop\\project\\venv\\lib\\site-packages (from tabpy) (2.2.1)\n"
      ]
     },
     "metadata": {},
     "output_type": "display_data"
    },
    {
     "data": {
      "text/html": [
       "<pre style=\"white-space:pre;overflow-x:auto;line-height:normal;font-family:Menlo,'DejaVu Sans Mono',consolas,'Courier New',monospace\">Collecting pyopenssl (from tabpy)\n",
       "</pre>\n"
      ],
      "text/plain": [
       "Collecting pyopenssl (from tabpy)\n"
      ]
     },
     "metadata": {},
     "output_type": "display_data"
    },
    {
     "data": {
      "text/html": [
       "<pre style=\"white-space:pre;overflow-x:auto;line-height:normal;font-family:Menlo,'DejaVu Sans Mono',consolas,'Courier New',monospace\">  Downloading pyOpenSSL-24.1.0-py3-none-any.whl.metadata (12 kB)\n",
       "</pre>\n"
      ],
      "text/plain": [
       "  Downloading pyOpenSSL-24.1.0-py3-none-any.whl.metadata (12 kB)\n"
      ]
     },
     "metadata": {},
     "output_type": "display_data"
    },
    {
     "data": {
      "text/html": [
       "<pre style=\"white-space:pre;overflow-x:auto;line-height:normal;font-family:Menlo,'DejaVu Sans Mono',consolas,'Courier New',monospace\">Collecting pytest (from tabpy)\n",
       "</pre>\n"
      ],
      "text/plain": [
       "Collecting pytest (from tabpy)\n"
      ]
     },
     "metadata": {},
     "output_type": "display_data"
    },
    {
     "data": {
      "text/html": [
       "<pre style=\"white-space:pre;overflow-x:auto;line-height:normal;font-family:Menlo,'DejaVu Sans Mono',consolas,'Courier New',monospace\">  Downloading pytest-8.1.1-py3-none-any.whl.metadata (7.6 kB)\n",
       "</pre>\n"
      ],
      "text/plain": [
       "  Downloading pytest-8.1.1-py3-none-any.whl.metadata (7.6 kB)\n"
      ]
     },
     "metadata": {},
     "output_type": "display_data"
    },
    {
     "data": {
      "text/html": [
       "<pre style=\"white-space:pre;overflow-x:auto;line-height:normal;font-family:Menlo,'DejaVu Sans Mono',consolas,'Courier New',monospace\">Collecting pytest-cov (from tabpy)\n",
       "</pre>\n"
      ],
      "text/plain": [
       "Collecting pytest-cov (from tabpy)\n"
      ]
     },
     "metadata": {},
     "output_type": "display_data"
    },
    {
     "data": {
      "text/html": [
       "<pre style=\"white-space:pre;overflow-x:auto;line-height:normal;font-family:Menlo,'DejaVu Sans Mono',consolas,'Courier New',monospace\">  Downloading pytest_cov-5.0.0-py3-none-any.whl.metadata (27 kB)\n",
       "</pre>\n"
      ],
      "text/plain": [
       "  Downloading pytest_cov-5.0.0-py3-none-any.whl.metadata (27 kB)\n"
      ]
     },
     "metadata": {},
     "output_type": "display_data"
    },
    {
     "data": {
      "text/html": [
       "<pre style=\"white-space:pre;overflow-x:auto;line-height:normal;font-family:Menlo,'DejaVu Sans Mono',consolas,'Courier New',monospace\">Requirement already satisfied: requests in c:\\users\\alev pc\\desktop\\project\\venv\\lib\\site-packages (from tabpy) (2.31.0)\n",
       "</pre>\n"
      ],
      "text/plain": [
       "Requirement already satisfied: requests in c:\\users\\alev pc\\desktop\\project\\venv\\lib\\site-packages (from tabpy) (2.31.0)\n"
      ]
     },
     "metadata": {},
     "output_type": "display_data"
    },
    {
     "data": {
      "text/html": [
       "<pre style=\"white-space:pre;overflow-x:auto;line-height:normal;font-family:Menlo,'DejaVu Sans Mono',consolas,'Courier New',monospace\">Requirement already satisfied: scipy in c:\\users\\alev pc\\desktop\\project\\venv\\lib\\site-packages (from tabpy) (1.12.0)\n",
       "</pre>\n"
      ],
      "text/plain": [
       "Requirement already satisfied: scipy in c:\\users\\alev pc\\desktop\\project\\venv\\lib\\site-packages (from tabpy) (1.12.0)\n"
      ]
     },
     "metadata": {},
     "output_type": "display_data"
    },
    {
     "data": {
      "text/html": [
       "<pre style=\"white-space:pre;overflow-x:auto;line-height:normal;font-family:Menlo,'DejaVu Sans Mono',consolas,'Courier New',monospace\">Collecting simplejson (from tabpy)\n",
       "</pre>\n"
      ],
      "text/plain": [
       "Collecting simplejson (from tabpy)\n"
      ]
     },
     "metadata": {},
     "output_type": "display_data"
    },
    {
     "data": {
      "text/html": [
       "<pre style=\"white-space:pre;overflow-x:auto;line-height:normal;font-family:Menlo,'DejaVu Sans Mono',consolas,'Courier New',monospace\">  Downloading simplejson-3.19.2-cp311-cp311-win_amd64.whl.metadata (3.2 kB)\n",
       "</pre>\n"
      ],
      "text/plain": [
       "  Downloading simplejson-3.19.2-cp311-cp311-win_amd64.whl.metadata (3.2 kB)\n"
      ]
     },
     "metadata": {},
     "output_type": "display_data"
    },
    {
     "data": {
      "text/html": [
       "<pre style=\"white-space:pre;overflow-x:auto;line-height:normal;font-family:Menlo,'DejaVu Sans Mono',consolas,'Courier New',monospace\">Collecting scikit-learn (from tabpy)\n",
       "</pre>\n"
      ],
      "text/plain": [
       "Collecting scikit-learn (from tabpy)\n"
      ]
     },
     "metadata": {},
     "output_type": "display_data"
    },
    {
     "data": {
      "text/html": [
       "<pre style=\"white-space:pre;overflow-x:auto;line-height:normal;font-family:Menlo,'DejaVu Sans Mono',consolas,'Courier New',monospace\">  Downloading scikit_learn-1.4.1.post1-cp311-cp311-win_amd64.whl.metadata (11 kB)\n",
       "</pre>\n"
      ],
      "text/plain": [
       "  Downloading scikit_learn-1.4.1.post1-cp311-cp311-win_amd64.whl.metadata (11 kB)\n"
      ]
     },
     "metadata": {},
     "output_type": "display_data"
    },
    {
     "data": {
      "text/html": [
       "<pre style=\"white-space:pre;overflow-x:auto;line-height:normal;font-family:Menlo,'DejaVu Sans Mono',consolas,'Courier New',monospace\">Collecting textblob (from tabpy)\n",
       "</pre>\n"
      ],
      "text/plain": [
       "Collecting textblob (from tabpy)\n"
      ]
     },
     "metadata": {},
     "output_type": "display_data"
    },
    {
     "data": {
      "text/html": [
       "<pre style=\"white-space:pre;overflow-x:auto;line-height:normal;font-family:Menlo,'DejaVu Sans Mono',consolas,'Courier New',monospace\">  Downloading textblob-0.18.0.post0-py3-none-any.whl.metadata (4.5 kB)\n",
       "</pre>\n"
      ],
      "text/plain": [
       "  Downloading textblob-0.18.0.post0-py3-none-any.whl.metadata (4.5 kB)\n"
      ]
     },
     "metadata": {},
     "output_type": "display_data"
    },
    {
     "data": {
      "text/html": [
       "<pre style=\"white-space:pre;overflow-x:auto;line-height:normal;font-family:Menlo,'DejaVu Sans Mono',consolas,'Courier New',monospace\">Requirement already satisfied: tornado in c:\\users\\alev pc\\desktop\\project\\venv\\lib\\site-packages (from tabpy) (6.4)\n",
       "</pre>\n"
      ],
      "text/plain": [
       "Requirement already satisfied: tornado in c:\\users\\alev pc\\desktop\\project\\venv\\lib\\site-packages (from tabpy) (6.4)\n"
      ]
     },
     "metadata": {},
     "output_type": "display_data"
    },
    {
     "data": {
      "text/html": [
       "<pre style=\"white-space:pre;overflow-x:auto;line-height:normal;font-family:Menlo,'DejaVu Sans Mono',consolas,'Courier New',monospace\">Collecting twisted (from tabpy)\n",
       "</pre>\n"
      ],
      "text/plain": [
       "Collecting twisted (from tabpy)\n"
      ]
     },
     "metadata": {},
     "output_type": "display_data"
    },
    {
     "data": {
      "text/html": [
       "<pre style=\"white-space:pre;overflow-x:auto;line-height:normal;font-family:Menlo,'DejaVu Sans Mono',consolas,'Courier New',monospace\">  Downloading twisted-24.3.0-py3-none-any.whl.metadata (9.5 kB)\n",
       "</pre>\n"
      ],
      "text/plain": [
       "  Downloading twisted-24.3.0-py3-none-any.whl.metadata (9.5 kB)\n"
      ]
     },
     "metadata": {},
     "output_type": "display_data"
    },
    {
     "data": {
      "text/html": [
       "<pre style=\"white-space:pre;overflow-x:auto;line-height:normal;font-family:Menlo,'DejaVu Sans Mono',consolas,'Courier New',monospace\">Requirement already satisfied: urllib3 in c:\\users\\alev pc\\desktop\\project\\venv\\lib\\site-packages (from tabpy) (2.2.1)\n",
       "</pre>\n"
      ],
      "text/plain": [
       "Requirement already satisfied: urllib3 in c:\\users\\alev pc\\desktop\\project\\venv\\lib\\site-packages (from tabpy) (2.2.1)\n"
      ]
     },
     "metadata": {},
     "output_type": "display_data"
    },
    {
     "data": {
      "text/html": [
       "<pre style=\"white-space:pre;overflow-x:auto;line-height:normal;font-family:Menlo,'DejaVu Sans Mono',consolas,'Courier New',monospace\">Collecting pyarrow (from tabpy)\n",
       "</pre>\n"
      ],
      "text/plain": [
       "Collecting pyarrow (from tabpy)\n"
      ]
     },
     "metadata": {},
     "output_type": "display_data"
    },
    {
     "data": {
      "text/html": [
       "<pre style=\"white-space:pre;overflow-x:auto;line-height:normal;font-family:Menlo,'DejaVu Sans Mono',consolas,'Courier New',monospace\">  Downloading pyarrow-15.0.2-cp311-cp311-win_amd64.whl.metadata (3.1 kB)\n",
       "</pre>\n"
      ],
      "text/plain": [
       "  Downloading pyarrow-15.0.2-cp311-cp311-win_amd64.whl.metadata (3.1 kB)\n"
      ]
     },
     "metadata": {},
     "output_type": "display_data"
    },
    {
     "data": {
      "text/html": [
       "<pre style=\"white-space:pre;overflow-x:auto;line-height:normal;font-family:Menlo,'DejaVu Sans Mono',consolas,'Courier New',monospace\">Collecting coverage (from tabpy)\n",
       "</pre>\n"
      ],
      "text/plain": [
       "Collecting coverage (from tabpy)\n"
      ]
     },
     "metadata": {},
     "output_type": "display_data"
    },
    {
     "data": {
      "text/html": [
       "<pre style=\"white-space:pre;overflow-x:auto;line-height:normal;font-family:Menlo,'DejaVu Sans Mono',consolas,'Courier New',monospace\">  Downloading coverage-6.5.0-cp311-cp311-win_amd64.whl.metadata (8.8 kB)\n",
       "</pre>\n"
      ],
      "text/plain": [
       "  Downloading coverage-6.5.0-cp311-cp311-win_amd64.whl.metadata (8.8 kB)\n"
      ]
     },
     "metadata": {},
     "output_type": "display_data"
    },
    {
     "data": {
      "text/html": [
       "<pre style=\"white-space:pre;overflow-x:auto;line-height:normal;font-family:Menlo,'DejaVu Sans Mono',consolas,'Courier New',monospace\">Requirement already satisfied: charset-normalizer&lt;4,&gt;=2 in c:\\users\\alev pc\\desktop\\project\\venv\\lib\\site-packages (from requests-&gt;tabpy) (3.3.2)\n",
       "</pre>\n"
      ],
      "text/plain": [
       "Requirement already satisfied: charset-normalizer<4,>=2 in c:\\users\\alev pc\\desktop\\project\\venv\\lib\\site-packages (from requests->tabpy) (3.3.2)\n"
      ]
     },
     "metadata": {},
     "output_type": "display_data"
    },
    {
     "data": {
      "text/html": [
       "<pre style=\"white-space:pre;overflow-x:auto;line-height:normal;font-family:Menlo,'DejaVu Sans Mono',consolas,'Courier New',monospace\">Requirement already satisfied: idna&lt;4,&gt;=2.5 in c:\\users\\alev pc\\desktop\\project\\venv\\lib\\site-packages (from requests-&gt;tabpy) (3.6)\n",
       "</pre>\n"
      ],
      "text/plain": [
       "Requirement already satisfied: idna<4,>=2.5 in c:\\users\\alev pc\\desktop\\project\\venv\\lib\\site-packages (from requests->tabpy) (3.6)\n"
      ]
     },
     "metadata": {},
     "output_type": "display_data"
    },
    {
     "data": {
      "text/html": [
       "<pre style=\"white-space:pre;overflow-x:auto;line-height:normal;font-family:Menlo,'DejaVu Sans Mono',consolas,'Courier New',monospace\">Requirement already satisfied: certifi&gt;=2017.4.17 in c:\\users\\alev pc\\desktop\\project\\venv\\lib\\site-packages (from requests-&gt;tabpy) (2024.2.2)\n",
       "</pre>\n"
      ],
      "text/plain": [
       "Requirement already satisfied: certifi>=2017.4.17 in c:\\users\\alev pc\\desktop\\project\\venv\\lib\\site-packages (from requests->tabpy) (2024.2.2)\n"
      ]
     },
     "metadata": {},
     "output_type": "display_data"
    },
    {
     "data": {
      "text/html": [
       "<pre style=\"white-space:pre;overflow-x:auto;line-height:normal;font-family:Menlo,'DejaVu Sans Mono',consolas,'Courier New',monospace\">Requirement already satisfied: attrs&gt;=22.2.0 in c:\\users\\alev pc\\desktop\\project\\venv\\lib\\site-packages (from hypothesis-&gt;tabpy) (23.2.0)\n",
       "</pre>\n"
      ],
      "text/plain": [
       "Requirement already satisfied: attrs>=22.2.0 in c:\\users\\alev pc\\desktop\\project\\venv\\lib\\site-packages (from hypothesis->tabpy) (23.2.0)\n"
      ]
     },
     "metadata": {},
     "output_type": "display_data"
    },
    {
     "data": {
      "text/html": [
       "<pre style=\"white-space:pre;overflow-x:auto;line-height:normal;font-family:Menlo,'DejaVu Sans Mono',consolas,'Courier New',monospace\">Collecting sortedcontainers&lt;3.0.0,&gt;=2.1.0 (from hypothesis-&gt;tabpy)\n",
       "</pre>\n"
      ],
      "text/plain": [
       "Collecting sortedcontainers<3.0.0,>=2.1.0 (from hypothesis->tabpy)\n"
      ]
     },
     "metadata": {},
     "output_type": "display_data"
    },
    {
     "data": {
      "text/html": [
       "<pre style=\"white-space:pre;overflow-x:auto;line-height:normal;font-family:Menlo,'DejaVu Sans Mono',consolas,'Courier New',monospace\">  Downloading sortedcontainers-2.4.0-py2.py3-none-any.whl.metadata (10 kB)\n",
       "</pre>\n"
      ],
      "text/plain": [
       "  Downloading sortedcontainers-2.4.0-py2.py3-none-any.whl.metadata (10 kB)\n"
      ]
     },
     "metadata": {},
     "output_type": "display_data"
    },
    {
     "data": {
      "text/html": [
       "<pre style=\"white-space:pre;overflow-x:auto;line-height:normal;font-family:Menlo,'DejaVu Sans Mono',consolas,'Courier New',monospace\">Requirement already satisfied: jsonschema-specifications&gt;=2023.03.6 in c:\\users\\alev pc\\desktop\\project\\venv\\lib\\site-packages (from jsonschema-&gt;tabpy) (2023.12.1)\n",
       "</pre>\n"
      ],
      "text/plain": [
       "Requirement already satisfied: jsonschema-specifications>=2023.03.6 in c:\\users\\alev pc\\desktop\\project\\venv\\lib\\site-packages (from jsonschema->tabpy) (2023.12.1)\n"
      ]
     },
     "metadata": {},
     "output_type": "display_data"
    },
    {
     "data": {
      "text/html": [
       "<pre style=\"white-space:pre;overflow-x:auto;line-height:normal;font-family:Menlo,'DejaVu Sans Mono',consolas,'Courier New',monospace\">Requirement already satisfied: referencing&gt;=0.28.4 in c:\\users\\alev pc\\desktop\\project\\venv\\lib\\site-packages (from jsonschema-&gt;tabpy) (0.34.0)\n",
       "</pre>\n"
      ],
      "text/plain": [
       "Requirement already satisfied: referencing>=0.28.4 in c:\\users\\alev pc\\desktop\\project\\venv\\lib\\site-packages (from jsonschema->tabpy) (0.34.0)\n"
      ]
     },
     "metadata": {},
     "output_type": "display_data"
    },
    {
     "data": {
      "text/html": [
       "<pre style=\"white-space:pre;overflow-x:auto;line-height:normal;font-family:Menlo,'DejaVu Sans Mono',consolas,'Courier New',monospace\">Requirement already satisfied: rpds-py&gt;=0.7.1 in c:\\users\\alev pc\\desktop\\project\\venv\\lib\\site-packages (from jsonschema-&gt;tabpy) (0.18.0)\n",
       "</pre>\n"
      ],
      "text/plain": [
       "Requirement already satisfied: rpds-py>=0.7.1 in c:\\users\\alev pc\\desktop\\project\\venv\\lib\\site-packages (from jsonschema->tabpy) (0.18.0)\n"
      ]
     },
     "metadata": {},
     "output_type": "display_data"
    },
    {
     "data": {
      "text/html": [
       "<pre style=\"white-space:pre;overflow-x:auto;line-height:normal;font-family:Menlo,'DejaVu Sans Mono',consolas,'Courier New',monospace\">Requirement already satisfied: click in c:\\users\\alev pc\\desktop\\project\\venv\\lib\\site-packages (from nltk-&gt;tabpy) (8.1.7)\n",
       "</pre>\n"
      ],
      "text/plain": [
       "Requirement already satisfied: click in c:\\users\\alev pc\\desktop\\project\\venv\\lib\\site-packages (from nltk->tabpy) (8.1.7)\n"
      ]
     },
     "metadata": {},
     "output_type": "display_data"
    },
    {
     "data": {
      "text/html": [
       "<pre style=\"white-space:pre;overflow-x:auto;line-height:normal;font-family:Menlo,'DejaVu Sans Mono',consolas,'Courier New',monospace\">Collecting joblib (from nltk-&gt;tabpy)\n",
       "</pre>\n"
      ],
      "text/plain": [
       "Collecting joblib (from nltk->tabpy)\n"
      ]
     },
     "metadata": {},
     "output_type": "display_data"
    },
    {
     "data": {
      "text/html": [
       "<pre style=\"white-space:pre;overflow-x:auto;line-height:normal;font-family:Menlo,'DejaVu Sans Mono',consolas,'Courier New',monospace\">  Downloading joblib-1.3.2-py3-none-any.whl.metadata (5.4 kB)\n",
       "</pre>\n"
      ],
      "text/plain": [
       "  Downloading joblib-1.3.2-py3-none-any.whl.metadata (5.4 kB)\n"
      ]
     },
     "metadata": {},
     "output_type": "display_data"
    },
    {
     "data": {
      "text/html": [
       "<pre style=\"white-space:pre;overflow-x:auto;line-height:normal;font-family:Menlo,'DejaVu Sans Mono',consolas,'Courier New',monospace\">Collecting regex&gt;=2021.8.3 (from nltk-&gt;tabpy)\n",
       "</pre>\n"
      ],
      "text/plain": [
       "Collecting regex>=2021.8.3 (from nltk->tabpy)\n"
      ]
     },
     "metadata": {},
     "output_type": "display_data"
    },
    {
     "data": {
      "text/html": [
       "<pre style=\"white-space:pre;overflow-x:auto;line-height:normal;font-family:Menlo,'DejaVu Sans Mono',consolas,'Courier New',monospace\">  Downloading regex-2023.12.25-cp311-cp311-win_amd64.whl.metadata (41 kB)\n",
       "</pre>\n"
      ],
      "text/plain": [
       "  Downloading regex-2023.12.25-cp311-cp311-win_amd64.whl.metadata (41 kB)\n"
      ]
     },
     "metadata": {},
     "output_type": "display_data"
    },
    {
     "data": {
      "application/vnd.jupyter.widget-view+json": {
       "model_id": "66aa6d6a71ee4483a7b253e891f60b57",
       "version_major": 2,
       "version_minor": 0
      },
      "text/plain": [
       "Output()"
      ]
     },
     "metadata": {},
     "output_type": "display_data"
    },
    {
     "data": {
      "text/html": [
       "<pre style=\"white-space:pre;overflow-x:auto;line-height:normal;font-family:Menlo,'DejaVu Sans Mono',consolas,'Courier New',monospace\"></pre>\n"
      ],
      "text/plain": []
     },
     "metadata": {},
     "output_type": "display_data"
    },
    {
     "data": {
      "text/html": [
       "<pre style=\"white-space:pre;overflow-x:auto;line-height:normal;font-family:Menlo,'DejaVu Sans Mono',consolas,'Courier New',monospace\">\n",
       "</pre>\n"
      ],
      "text/plain": [
       "\n"
      ]
     },
     "metadata": {},
     "output_type": "display_data"
    },
    {
     "data": {
      "text/html": [
       "<pre style=\"white-space:pre;overflow-x:auto;line-height:normal;font-family:Menlo,'DejaVu Sans Mono',consolas,'Courier New',monospace\">Collecting tqdm (from nltk-&gt;tabpy)\n",
       "</pre>\n"
      ],
      "text/plain": [
       "Collecting tqdm (from nltk->tabpy)\n"
      ]
     },
     "metadata": {},
     "output_type": "display_data"
    },
    {
     "data": {
      "text/html": [
       "<pre style=\"white-space:pre;overflow-x:auto;line-height:normal;font-family:Menlo,'DejaVu Sans Mono',consolas,'Courier New',monospace\">  Using cached tqdm-4.66.2-py3-none-any.whl.metadata (57 kB)\n",
       "</pre>\n"
      ],
      "text/plain": [
       "  Using cached tqdm-4.66.2-py3-none-any.whl.metadata (57 kB)\n"
      ]
     },
     "metadata": {},
     "output_type": "display_data"
    },
    {
     "data": {
      "text/html": [
       "<pre style=\"white-space:pre;overflow-x:auto;line-height:normal;font-family:Menlo,'DejaVu Sans Mono',consolas,'Courier New',monospace\">Requirement already satisfied: python-dateutil&gt;=2.8.2 in c:\\users\\alev pc\\desktop\\project\\venv\\lib\\site-packages (from pandas-&gt;tabpy) (2.9.0.post0)\n",
       "</pre>\n"
      ],
      "text/plain": [
       "Requirement already satisfied: python-dateutil>=2.8.2 in c:\\users\\alev pc\\desktop\\project\\venv\\lib\\site-packages (from pandas->tabpy) (2.9.0.post0)\n"
      ]
     },
     "metadata": {},
     "output_type": "display_data"
    },
    {
     "data": {
      "text/html": [
       "<pre style=\"white-space:pre;overflow-x:auto;line-height:normal;font-family:Menlo,'DejaVu Sans Mono',consolas,'Courier New',monospace\">Requirement already satisfied: pytz&gt;=2020.1 in c:\\users\\alev pc\\desktop\\project\\venv\\lib\\site-packages (from pandas-&gt;tabpy) (2024.1)\n",
       "</pre>\n"
      ],
      "text/plain": [
       "Requirement already satisfied: pytz>=2020.1 in c:\\users\\alev pc\\desktop\\project\\venv\\lib\\site-packages (from pandas->tabpy) (2024.1)\n"
      ]
     },
     "metadata": {},
     "output_type": "display_data"
    },
    {
     "data": {
      "text/html": [
       "<pre style=\"white-space:pre;overflow-x:auto;line-height:normal;font-family:Menlo,'DejaVu Sans Mono',consolas,'Courier New',monospace\">Requirement already satisfied: tzdata&gt;=2022.7 in c:\\users\\alev pc\\desktop\\project\\venv\\lib\\site-packages (from pandas-&gt;tabpy) (2024.1)\n",
       "</pre>\n"
      ],
      "text/plain": [
       "Requirement already satisfied: tzdata>=2022.7 in c:\\users\\alev pc\\desktop\\project\\venv\\lib\\site-packages (from pandas->tabpy) (2024.1)\n"
      ]
     },
     "metadata": {},
     "output_type": "display_data"
    },
    {
     "data": {
      "text/html": [
       "<pre style=\"white-space:pre;overflow-x:auto;line-height:normal;font-family:Menlo,'DejaVu Sans Mono',consolas,'Courier New',monospace\">Collecting cryptography&lt;43,&gt;=41.0.5 (from pyopenssl-&gt;tabpy)\n",
       "</pre>\n"
      ],
      "text/plain": [
       "Collecting cryptography<43,>=41.0.5 (from pyopenssl->tabpy)\n"
      ]
     },
     "metadata": {},
     "output_type": "display_data"
    },
    {
     "data": {
      "text/html": [
       "<pre style=\"white-space:pre;overflow-x:auto;line-height:normal;font-family:Menlo,'DejaVu Sans Mono',consolas,'Courier New',monospace\">  Downloading cryptography-42.0.5-cp39-abi3-win_amd64.whl.metadata (5.4 kB)\n",
       "</pre>\n"
      ],
      "text/plain": [
       "  Downloading cryptography-42.0.5-cp39-abi3-win_amd64.whl.metadata (5.4 kB)\n"
      ]
     },
     "metadata": {},
     "output_type": "display_data"
    },
    {
     "data": {
      "text/html": [
       "<pre style=\"white-space:pre;overflow-x:auto;line-height:normal;font-family:Menlo,'DejaVu Sans Mono',consolas,'Courier New',monospace\">Collecting iniconfig (from pytest-&gt;tabpy)\n",
       "</pre>\n"
      ],
      "text/plain": [
       "Collecting iniconfig (from pytest->tabpy)\n"
      ]
     },
     "metadata": {},
     "output_type": "display_data"
    },
    {
     "data": {
      "text/html": [
       "<pre style=\"white-space:pre;overflow-x:auto;line-height:normal;font-family:Menlo,'DejaVu Sans Mono',consolas,'Courier New',monospace\">  Downloading iniconfig-2.0.0-py3-none-any.whl.metadata (2.6 kB)\n",
       "</pre>\n"
      ],
      "text/plain": [
       "  Downloading iniconfig-2.0.0-py3-none-any.whl.metadata (2.6 kB)\n"
      ]
     },
     "metadata": {},
     "output_type": "display_data"
    },
    {
     "data": {
      "text/html": [
       "<pre style=\"white-space:pre;overflow-x:auto;line-height:normal;font-family:Menlo,'DejaVu Sans Mono',consolas,'Courier New',monospace\">Requirement already satisfied: packaging in c:\\users\\alev pc\\desktop\\project\\venv\\lib\\site-packages (from pytest-&gt;tabpy) (24.0)\n",
       "</pre>\n"
      ],
      "text/plain": [
       "Requirement already satisfied: packaging in c:\\users\\alev pc\\desktop\\project\\venv\\lib\\site-packages (from pytest->tabpy) (24.0)\n"
      ]
     },
     "metadata": {},
     "output_type": "display_data"
    },
    {
     "data": {
      "text/html": [
       "<pre style=\"white-space:pre;overflow-x:auto;line-height:normal;font-family:Menlo,'DejaVu Sans Mono',consolas,'Courier New',monospace\">Collecting pluggy&lt;2.0,&gt;=1.4 (from pytest-&gt;tabpy)\n",
       "</pre>\n"
      ],
      "text/plain": [
       "Collecting pluggy<2.0,>=1.4 (from pytest->tabpy)\n"
      ]
     },
     "metadata": {},
     "output_type": "display_data"
    },
    {
     "data": {
      "text/html": [
       "<pre style=\"white-space:pre;overflow-x:auto;line-height:normal;font-family:Menlo,'DejaVu Sans Mono',consolas,'Courier New',monospace\">  Downloading pluggy-1.4.0-py3-none-any.whl.metadata (4.3 kB)\n",
       "</pre>\n"
      ],
      "text/plain": [
       "  Downloading pluggy-1.4.0-py3-none-any.whl.metadata (4.3 kB)\n"
      ]
     },
     "metadata": {},
     "output_type": "display_data"
    },
    {
     "data": {
      "text/html": [
       "<pre style=\"white-space:pre;overflow-x:auto;line-height:normal;font-family:Menlo,'DejaVu Sans Mono',consolas,'Courier New',monospace\">Requirement already satisfied: colorama in c:\\users\\alev pc\\desktop\\project\\venv\\lib\\site-packages (from pytest-&gt;tabpy) (0.4.6)\n",
       "</pre>\n"
      ],
      "text/plain": [
       "Requirement already satisfied: colorama in c:\\users\\alev pc\\desktop\\project\\venv\\lib\\site-packages (from pytest->tabpy) (0.4.6)\n"
      ]
     },
     "metadata": {},
     "output_type": "display_data"
    },
    {
     "data": {
      "text/html": [
       "<pre style=\"white-space:pre;overflow-x:auto;line-height:normal;font-family:Menlo,'DejaVu Sans Mono',consolas,'Courier New',monospace\">Collecting threadpoolctl&gt;=2.0.0 (from scikit-learn-&gt;tabpy)\n",
       "</pre>\n"
      ],
      "text/plain": [
       "Collecting threadpoolctl>=2.0.0 (from scikit-learn->tabpy)\n"
      ]
     },
     "metadata": {},
     "output_type": "display_data"
    },
    {
     "data": {
      "text/html": [
       "<pre style=\"white-space:pre;overflow-x:auto;line-height:normal;font-family:Menlo,'DejaVu Sans Mono',consolas,'Courier New',monospace\">  Downloading threadpoolctl-3.4.0-py3-none-any.whl.metadata (13 kB)\n",
       "</pre>\n"
      ],
      "text/plain": [
       "  Downloading threadpoolctl-3.4.0-py3-none-any.whl.metadata (13 kB)\n"
      ]
     },
     "metadata": {},
     "output_type": "display_data"
    },
    {
     "data": {
      "text/html": [
       "<pre style=\"white-space:pre;overflow-x:auto;line-height:normal;font-family:Menlo,'DejaVu Sans Mono',consolas,'Courier New',monospace\">Collecting automat&gt;=0.8.0 (from twisted-&gt;tabpy)\n",
       "</pre>\n"
      ],
      "text/plain": [
       "Collecting automat>=0.8.0 (from twisted->tabpy)\n"
      ]
     },
     "metadata": {},
     "output_type": "display_data"
    },
    {
     "data": {
      "text/html": [
       "<pre style=\"white-space:pre;overflow-x:auto;line-height:normal;font-family:Menlo,'DejaVu Sans Mono',consolas,'Courier New',monospace\">  Downloading Automat-22.10.0-py2.py3-none-any.whl.metadata (1.0 kB)\n",
       "</pre>\n"
      ],
      "text/plain": [
       "  Downloading Automat-22.10.0-py2.py3-none-any.whl.metadata (1.0 kB)\n"
      ]
     },
     "metadata": {},
     "output_type": "display_data"
    },
    {
     "data": {
      "text/html": [
       "<pre style=\"white-space:pre;overflow-x:auto;line-height:normal;font-family:Menlo,'DejaVu Sans Mono',consolas,'Courier New',monospace\">Collecting constantly&gt;=15.1 (from twisted-&gt;tabpy)\n",
       "</pre>\n"
      ],
      "text/plain": [
       "Collecting constantly>=15.1 (from twisted->tabpy)\n"
      ]
     },
     "metadata": {},
     "output_type": "display_data"
    },
    {
     "data": {
      "text/html": [
       "<pre style=\"white-space:pre;overflow-x:auto;line-height:normal;font-family:Menlo,'DejaVu Sans Mono',consolas,'Courier New',monospace\">  Downloading constantly-23.10.4-py3-none-any.whl.metadata (1.8 kB)\n",
       "</pre>\n"
      ],
      "text/plain": [
       "  Downloading constantly-23.10.4-py3-none-any.whl.metadata (1.8 kB)\n"
      ]
     },
     "metadata": {},
     "output_type": "display_data"
    },
    {
     "data": {
      "text/html": [
       "<pre style=\"white-space:pre;overflow-x:auto;line-height:normal;font-family:Menlo,'DejaVu Sans Mono',consolas,'Courier New',monospace\">Collecting hyperlink&gt;=17.1.1 (from twisted-&gt;tabpy)\n",
       "</pre>\n"
      ],
      "text/plain": [
       "Collecting hyperlink>=17.1.1 (from twisted->tabpy)\n"
      ]
     },
     "metadata": {},
     "output_type": "display_data"
    },
    {
     "data": {
      "text/html": [
       "<pre style=\"white-space:pre;overflow-x:auto;line-height:normal;font-family:Menlo,'DejaVu Sans Mono',consolas,'Courier New',monospace\">  Downloading hyperlink-21.0.0-py2.py3-none-any.whl.metadata (1.5 kB)\n",
       "</pre>\n"
      ],
      "text/plain": [
       "  Downloading hyperlink-21.0.0-py2.py3-none-any.whl.metadata (1.5 kB)\n"
      ]
     },
     "metadata": {},
     "output_type": "display_data"
    },
    {
     "data": {
      "text/html": [
       "<pre style=\"white-space:pre;overflow-x:auto;line-height:normal;font-family:Menlo,'DejaVu Sans Mono',consolas,'Courier New',monospace\">Collecting incremental&gt;=22.10.0 (from twisted-&gt;tabpy)\n",
       "</pre>\n"
      ],
      "text/plain": [
       "Collecting incremental>=22.10.0 (from twisted->tabpy)\n"
      ]
     },
     "metadata": {},
     "output_type": "display_data"
    },
    {
     "data": {
      "text/html": [
       "<pre style=\"white-space:pre;overflow-x:auto;line-height:normal;font-family:Menlo,'DejaVu Sans Mono',consolas,'Courier New',monospace\">  Downloading incremental-22.10.0-py2.py3-none-any.whl.metadata (6.0 kB)\n",
       "</pre>\n"
      ],
      "text/plain": [
       "  Downloading incremental-22.10.0-py2.py3-none-any.whl.metadata (6.0 kB)\n"
      ]
     },
     "metadata": {},
     "output_type": "display_data"
    },
    {
     "data": {
      "text/html": [
       "<pre style=\"white-space:pre;overflow-x:auto;line-height:normal;font-family:Menlo,'DejaVu Sans Mono',consolas,'Courier New',monospace\">Collecting twisted-iocpsupport&lt;2,&gt;=1.0.2 (from twisted-&gt;tabpy)\n",
       "</pre>\n"
      ],
      "text/plain": [
       "Collecting twisted-iocpsupport<2,>=1.0.2 (from twisted->tabpy)\n"
      ]
     },
     "metadata": {},
     "output_type": "display_data"
    },
    {
     "data": {
      "text/html": [
       "<pre style=\"white-space:pre;overflow-x:auto;line-height:normal;font-family:Menlo,'DejaVu Sans Mono',consolas,'Courier New',monospace\">  Downloading twisted_iocpsupport-1.0.4-cp311-cp311-win_amd64.whl.metadata (2.2 kB)\n",
       "</pre>\n"
      ],
      "text/plain": [
       "  Downloading twisted_iocpsupport-1.0.4-cp311-cp311-win_amd64.whl.metadata (2.2 kB)\n"
      ]
     },
     "metadata": {},
     "output_type": "display_data"
    },
    {
     "data": {
      "text/html": [
       "<pre style=\"white-space:pre;overflow-x:auto;line-height:normal;font-family:Menlo,'DejaVu Sans Mono',consolas,'Courier New',monospace\">Collecting typing-extensions&gt;=4.2.0 (from twisted-&gt;tabpy)\n",
       "</pre>\n"
      ],
      "text/plain": [
       "Collecting typing-extensions>=4.2.0 (from twisted->tabpy)\n"
      ]
     },
     "metadata": {},
     "output_type": "display_data"
    },
    {
     "data": {
      "text/html": [
       "<pre style=\"white-space:pre;overflow-x:auto;line-height:normal;font-family:Menlo,'DejaVu Sans Mono',consolas,'Courier New',monospace\">  Downloading typing_extensions-4.10.0-py3-none-any.whl.metadata (3.0 kB)\n",
       "</pre>\n"
      ],
      "text/plain": [
       "  Downloading typing_extensions-4.10.0-py3-none-any.whl.metadata (3.0 kB)\n"
      ]
     },
     "metadata": {},
     "output_type": "display_data"
    },
    {
     "data": {
      "text/html": [
       "<pre style=\"white-space:pre;overflow-x:auto;line-height:normal;font-family:Menlo,'DejaVu Sans Mono',consolas,'Courier New',monospace\">Collecting zope-interface&gt;=5 (from twisted-&gt;tabpy)\n",
       "</pre>\n"
      ],
      "text/plain": [
       "Collecting zope-interface>=5 (from twisted->tabpy)\n"
      ]
     },
     "metadata": {},
     "output_type": "display_data"
    },
    {
     "data": {
      "text/html": [
       "<pre style=\"white-space:pre;overflow-x:auto;line-height:normal;font-family:Menlo,'DejaVu Sans Mono',consolas,'Courier New',monospace\">  Downloading zope.interface-6.2-cp311-cp311-win_amd64.whl.metadata (43 kB)\n",
       "</pre>\n"
      ],
      "text/plain": [
       "  Downloading zope.interface-6.2-cp311-cp311-win_amd64.whl.metadata (43 kB)\n"
      ]
     },
     "metadata": {},
     "output_type": "display_data"
    },
    {
     "data": {
      "application/vnd.jupyter.widget-view+json": {
       "model_id": "cf01f980942c4f5cb29f7a5f5019b31a",
       "version_major": 2,
       "version_minor": 0
      },
      "text/plain": [
       "Output()"
      ]
     },
     "metadata": {},
     "output_type": "display_data"
    },
    {
     "data": {
      "text/html": [
       "<pre style=\"white-space:pre;overflow-x:auto;line-height:normal;font-family:Menlo,'DejaVu Sans Mono',consolas,'Courier New',monospace\"></pre>\n"
      ],
      "text/plain": []
     },
     "metadata": {},
     "output_type": "display_data"
    },
    {
     "data": {
      "text/html": [
       "<pre style=\"white-space:pre;overflow-x:auto;line-height:normal;font-family:Menlo,'DejaVu Sans Mono',consolas,'Courier New',monospace\">\n",
       "</pre>\n"
      ],
      "text/plain": [
       "\n"
      ]
     },
     "metadata": {},
     "output_type": "display_data"
    },
    {
     "data": {
      "text/html": [
       "<pre style=\"white-space:pre;overflow-x:auto;line-height:normal;font-family:Menlo,'DejaVu Sans Mono',consolas,'Courier New',monospace\">Requirement already satisfied: six in c:\\users\\alev pc\\desktop\\project\\venv\\lib\\site-packages (from automat&gt;=0.8.0-&gt;twisted-&gt;tabpy) (1.16.0)\n",
       "</pre>\n"
      ],
      "text/plain": [
       "Requirement already satisfied: six in c:\\users\\alev pc\\desktop\\project\\venv\\lib\\site-packages (from automat>=0.8.0->twisted->tabpy) (1.16.0)\n"
      ]
     },
     "metadata": {},
     "output_type": "display_data"
    },
    {
     "data": {
      "text/html": [
       "<pre style=\"white-space:pre;overflow-x:auto;line-height:normal;font-family:Menlo,'DejaVu Sans Mono',consolas,'Courier New',monospace\">Requirement already satisfied: cffi&gt;=1.12 in c:\\users\\alev pc\\desktop\\project\\venv\\lib\\site-packages (from cryptography&lt;43,&gt;=41.0.5-&gt;pyopenssl-&gt;tabpy) (1.16.0)\n",
       "</pre>\n"
      ],
      "text/plain": [
       "Requirement already satisfied: cffi>=1.12 in c:\\users\\alev pc\\desktop\\project\\venv\\lib\\site-packages (from cryptography<43,>=41.0.5->pyopenssl->tabpy) (1.16.0)\n"
      ]
     },
     "metadata": {},
     "output_type": "display_data"
    },
    {
     "data": {
      "text/html": [
       "<pre style=\"white-space:pre;overflow-x:auto;line-height:normal;font-family:Menlo,'DejaVu Sans Mono',consolas,'Courier New',monospace\">Requirement already satisfied: setuptools in c:\\users\\alev pc\\desktop\\project\\venv\\lib\\site-packages (from zope-interface&gt;=5-&gt;twisted-&gt;tabpy) (65.5.0)\n",
       "</pre>\n"
      ],
      "text/plain": [
       "Requirement already satisfied: setuptools in c:\\users\\alev pc\\desktop\\project\\venv\\lib\\site-packages (from zope-interface>=5->twisted->tabpy) (65.5.0)\n"
      ]
     },
     "metadata": {},
     "output_type": "display_data"
    },
    {
     "data": {
      "text/html": [
       "<pre style=\"white-space:pre;overflow-x:auto;line-height:normal;font-family:Menlo,'DejaVu Sans Mono',consolas,'Courier New',monospace\">Requirement already satisfied: pycparser in c:\\users\\alev pc\\desktop\\project\\venv\\lib\\site-packages (from cffi&gt;=1.12-&gt;cryptography&lt;43,&gt;=41.0.5-&gt;pyopenssl-&gt;tabpy) (2.21)\n",
       "</pre>\n"
      ],
      "text/plain": [
       "Requirement already satisfied: pycparser in c:\\users\\alev pc\\desktop\\project\\venv\\lib\\site-packages (from cffi>=1.12->cryptography<43,>=41.0.5->pyopenssl->tabpy) (2.21)\n"
      ]
     },
     "metadata": {},
     "output_type": "display_data"
    },
    {
     "data": {
      "text/html": [
       "<pre style=\"white-space:pre;overflow-x:auto;line-height:normal;font-family:Menlo,'DejaVu Sans Mono',consolas,'Courier New',monospace\">Downloading cloudpickle-3.0.0-py3-none-any.whl (20 kB)\n",
       "</pre>\n"
      ],
      "text/plain": [
       "Downloading cloudpickle-3.0.0-py3-none-any.whl (20 kB)\n"
      ]
     },
     "metadata": {},
     "output_type": "display_data"
    },
    {
     "data": {
      "text/html": [
       "<pre style=\"white-space:pre;overflow-x:auto;line-height:normal;font-family:Menlo,'DejaVu Sans Mono',consolas,'Courier New',monospace\">Downloading configparser-6.0.1-py3-none-any.whl (19 kB)\n",
       "</pre>\n"
      ],
      "text/plain": [
       "Downloading configparser-6.0.1-py3-none-any.whl (19 kB)\n"
      ]
     },
     "metadata": {},
     "output_type": "display_data"
    },
    {
     "data": {
      "text/html": [
       "<pre style=\"white-space:pre;overflow-x:auto;line-height:normal;font-family:Menlo,'DejaVu Sans Mono',consolas,'Courier New',monospace\">Downloading coveralls-3.3.1-py2.py3-none-any.whl (14 kB)\n",
       "</pre>\n"
      ],
      "text/plain": [
       "Downloading coveralls-3.3.1-py2.py3-none-any.whl (14 kB)\n"
      ]
     },
     "metadata": {},
     "output_type": "display_data"
    },
    {
     "data": {
      "text/html": [
       "<pre style=\"white-space:pre;overflow-x:auto;line-height:normal;font-family:Menlo,'DejaVu Sans Mono',consolas,'Courier New',monospace\">Downloading coverage-6.5.0-cp311-cp311-win_amd64.whl (188 kB)\n",
       "</pre>\n"
      ],
      "text/plain": [
       "Downloading coverage-6.5.0-cp311-cp311-win_amd64.whl (188 kB)\n"
      ]
     },
     "metadata": {},
     "output_type": "display_data"
    },
    {
     "data": {
      "application/vnd.jupyter.widget-view+json": {
       "model_id": "84c4111448d24d9b854af8eb553bdaad",
       "version_major": 2,
       "version_minor": 0
      },
      "text/plain": [
       "Output()"
      ]
     },
     "metadata": {},
     "output_type": "display_data"
    },
    {
     "data": {
      "text/html": [
       "<pre style=\"white-space:pre;overflow-x:auto;line-height:normal;font-family:Menlo,'DejaVu Sans Mono',consolas,'Courier New',monospace\"></pre>\n"
      ],
      "text/plain": []
     },
     "metadata": {},
     "output_type": "display_data"
    },
    {
     "data": {
      "text/html": [
       "<pre style=\"white-space:pre;overflow-x:auto;line-height:normal;font-family:Menlo,'DejaVu Sans Mono',consolas,'Courier New',monospace\">\n",
       "</pre>\n"
      ],
      "text/plain": [
       "\n"
      ]
     },
     "metadata": {},
     "output_type": "display_data"
    },
    {
     "data": {
      "text/html": [
       "<pre style=\"white-space:pre;overflow-x:auto;line-height:normal;font-family:Menlo,'DejaVu Sans Mono',consolas,'Courier New',monospace\">Downloading future-1.0.0-py3-none-any.whl (491 kB)\n",
       "</pre>\n"
      ],
      "text/plain": [
       "Downloading future-1.0.0-py3-none-any.whl (491 kB)\n"
      ]
     },
     "metadata": {},
     "output_type": "display_data"
    },
    {
     "data": {
      "application/vnd.jupyter.widget-view+json": {
       "model_id": "846bdaf178574773a88bd30610b0c0f3",
       "version_major": 2,
       "version_minor": 0
      },
      "text/plain": [
       "Output()"
      ]
     },
     "metadata": {},
     "output_type": "display_data"
    },
    {
     "data": {
      "text/html": [
       "<pre style=\"white-space:pre;overflow-x:auto;line-height:normal;font-family:Menlo,'DejaVu Sans Mono',consolas,'Courier New',monospace\"></pre>\n"
      ],
      "text/plain": []
     },
     "metadata": {},
     "output_type": "display_data"
    },
    {
     "data": {
      "text/html": [
       "<pre style=\"white-space:pre;overflow-x:auto;line-height:normal;font-family:Menlo,'DejaVu Sans Mono',consolas,'Courier New',monospace\">\n",
       "</pre>\n"
      ],
      "text/plain": [
       "\n"
      ]
     },
     "metadata": {},
     "output_type": "display_data"
    },
    {
     "data": {
      "text/html": [
       "<pre style=\"white-space:pre;overflow-x:auto;line-height:normal;font-family:Menlo,'DejaVu Sans Mono',consolas,'Courier New',monospace\">Downloading hypothesis-6.99.13-py3-none-any.whl (457 kB)\n",
       "</pre>\n"
      ],
      "text/plain": [
       "Downloading hypothesis-6.99.13-py3-none-any.whl (457 kB)\n"
      ]
     },
     "metadata": {},
     "output_type": "display_data"
    },
    {
     "data": {
      "application/vnd.jupyter.widget-view+json": {
       "model_id": "f3a08e51447d4ebfaa13ff8f9ea4ffbb",
       "version_major": 2,
       "version_minor": 0
      },
      "text/plain": [
       "Output()"
      ]
     },
     "metadata": {},
     "output_type": "display_data"
    },
    {
     "data": {
      "text/html": [
       "<pre style=\"white-space:pre;overflow-x:auto;line-height:normal;font-family:Menlo,'DejaVu Sans Mono',consolas,'Courier New',monospace\"></pre>\n"
      ],
      "text/plain": []
     },
     "metadata": {},
     "output_type": "display_data"
    },
    {
     "data": {
      "text/html": [
       "<pre style=\"white-space:pre;overflow-x:auto;line-height:normal;font-family:Menlo,'DejaVu Sans Mono',consolas,'Courier New',monospace\">\n",
       "</pre>\n"
      ],
      "text/plain": [
       "\n"
      ]
     },
     "metadata": {},
     "output_type": "display_data"
    },
    {
     "data": {
      "text/html": [
       "<pre style=\"white-space:pre;overflow-x:auto;line-height:normal;font-family:Menlo,'DejaVu Sans Mono',consolas,'Courier New',monospace\">Downloading mock-5.1.0-py3-none-any.whl (30 kB)\n",
       "</pre>\n"
      ],
      "text/plain": [
       "Downloading mock-5.1.0-py3-none-any.whl (30 kB)\n"
      ]
     },
     "metadata": {},
     "output_type": "display_data"
    },
    {
     "data": {
      "text/html": [
       "<pre style=\"white-space:pre;overflow-x:auto;line-height:normal;font-family:Menlo,'DejaVu Sans Mono',consolas,'Courier New',monospace\">Downloading nltk-3.8.1-py3-none-any.whl (1.5 MB)\n",
       "</pre>\n"
      ],
      "text/plain": [
       "Downloading nltk-3.8.1-py3-none-any.whl (1.5 MB)\n"
      ]
     },
     "metadata": {},
     "output_type": "display_data"
    },
    {
     "data": {
      "application/vnd.jupyter.widget-view+json": {
       "model_id": "00df59c484f74433a85b0870a03336bf",
       "version_major": 2,
       "version_minor": 0
      },
      "text/plain": [
       "Output()"
      ]
     },
     "metadata": {},
     "output_type": "display_data"
    },
    {
     "data": {
      "text/html": [
       "<pre style=\"white-space:pre;overflow-x:auto;line-height:normal;font-family:Menlo,'DejaVu Sans Mono',consolas,'Courier New',monospace\"></pre>\n"
      ],
      "text/plain": []
     },
     "metadata": {},
     "output_type": "display_data"
    },
    {
     "data": {
      "text/html": [
       "<pre style=\"white-space:pre;overflow-x:auto;line-height:normal;font-family:Menlo,'DejaVu Sans Mono',consolas,'Courier New',monospace\">\n",
       "</pre>\n"
      ],
      "text/plain": [
       "\n"
      ]
     },
     "metadata": {},
     "output_type": "display_data"
    },
    {
     "data": {
      "text/html": [
       "<pre style=\"white-space:pre;overflow-x:auto;line-height:normal;font-family:Menlo,'DejaVu Sans Mono',consolas,'Courier New',monospace\">Downloading pyarrow-15.0.2-cp311-cp311-win_amd64.whl (24.8 MB)\n",
       "</pre>\n"
      ],
      "text/plain": [
       "Downloading pyarrow-15.0.2-cp311-cp311-win_amd64.whl (24.8 MB)\n"
      ]
     },
     "metadata": {},
     "output_type": "display_data"
    },
    {
     "data": {
      "application/vnd.jupyter.widget-view+json": {
       "model_id": "55deaf5969204046aaf7f928280d7aaf",
       "version_major": 2,
       "version_minor": 0
      },
      "text/plain": [
       "Output()"
      ]
     },
     "metadata": {},
     "output_type": "display_data"
    },
    {
     "data": {
      "text/html": [
       "<pre style=\"white-space:pre;overflow-x:auto;line-height:normal;font-family:Menlo,'DejaVu Sans Mono',consolas,'Courier New',monospace\"></pre>\n"
      ],
      "text/plain": []
     },
     "metadata": {},
     "output_type": "display_data"
    },
    {
     "data": {
      "text/html": [
       "<pre style=\"white-space:pre;overflow-x:auto;line-height:normal;font-family:Menlo,'DejaVu Sans Mono',consolas,'Courier New',monospace\">\n",
       "</pre>\n"
      ],
      "text/plain": [
       "\n"
      ]
     },
     "metadata": {},
     "output_type": "display_data"
    },
    {
     "data": {
      "text/html": [
       "<pre style=\"white-space:pre;overflow-x:auto;line-height:normal;font-family:Menlo,'DejaVu Sans Mono',consolas,'Courier New',monospace\">Downloading pyOpenSSL-24.1.0-py3-none-any.whl (56 kB)\n",
       "</pre>\n"
      ],
      "text/plain": [
       "Downloading pyOpenSSL-24.1.0-py3-none-any.whl (56 kB)\n"
      ]
     },
     "metadata": {},
     "output_type": "display_data"
    },
    {
     "data": {
      "application/vnd.jupyter.widget-view+json": {
       "model_id": "5e154543124246b4b343df5d3616e44b",
       "version_major": 2,
       "version_minor": 0
      },
      "text/plain": [
       "Output()"
      ]
     },
     "metadata": {},
     "output_type": "display_data"
    },
    {
     "data": {
      "text/html": [
       "<pre style=\"white-space:pre;overflow-x:auto;line-height:normal;font-family:Menlo,'DejaVu Sans Mono',consolas,'Courier New',monospace\"></pre>\n"
      ],
      "text/plain": []
     },
     "metadata": {},
     "output_type": "display_data"
    },
    {
     "data": {
      "text/html": [
       "<pre style=\"white-space:pre;overflow-x:auto;line-height:normal;font-family:Menlo,'DejaVu Sans Mono',consolas,'Courier New',monospace\">\n",
       "</pre>\n"
      ],
      "text/plain": [
       "\n"
      ]
     },
     "metadata": {},
     "output_type": "display_data"
    },
    {
     "data": {
      "text/html": [
       "<pre style=\"white-space:pre;overflow-x:auto;line-height:normal;font-family:Menlo,'DejaVu Sans Mono',consolas,'Courier New',monospace\">Downloading pytest-8.1.1-py3-none-any.whl (337 kB)\n",
       "</pre>\n"
      ],
      "text/plain": [
       "Downloading pytest-8.1.1-py3-none-any.whl (337 kB)\n"
      ]
     },
     "metadata": {},
     "output_type": "display_data"
    },
    {
     "data": {
      "application/vnd.jupyter.widget-view+json": {
       "model_id": "56f8510780a24cb7ae7b57f79869d5be",
       "version_major": 2,
       "version_minor": 0
      },
      "text/plain": [
       "Output()"
      ]
     },
     "metadata": {},
     "output_type": "display_data"
    },
    {
     "data": {
      "text/html": [
       "<pre style=\"white-space:pre;overflow-x:auto;line-height:normal;font-family:Menlo,'DejaVu Sans Mono',consolas,'Courier New',monospace\"></pre>\n"
      ],
      "text/plain": []
     },
     "metadata": {},
     "output_type": "display_data"
    },
    {
     "data": {
      "text/html": [
       "<pre style=\"white-space:pre;overflow-x:auto;line-height:normal;font-family:Menlo,'DejaVu Sans Mono',consolas,'Courier New',monospace\">\n",
       "</pre>\n"
      ],
      "text/plain": [
       "\n"
      ]
     },
     "metadata": {},
     "output_type": "display_data"
    },
    {
     "data": {
      "text/html": [
       "<pre style=\"white-space:pre;overflow-x:auto;line-height:normal;font-family:Menlo,'DejaVu Sans Mono',consolas,'Courier New',monospace\">Downloading pytest_cov-5.0.0-py3-none-any.whl (21 kB)\n",
       "</pre>\n"
      ],
      "text/plain": [
       "Downloading pytest_cov-5.0.0-py3-none-any.whl (21 kB)\n"
      ]
     },
     "metadata": {},
     "output_type": "display_data"
    },
    {
     "data": {
      "text/html": [
       "<pre style=\"white-space:pre;overflow-x:auto;line-height:normal;font-family:Menlo,'DejaVu Sans Mono',consolas,'Courier New',monospace\">Downloading scikit_learn-1.4.1.post1-cp311-cp311-win_amd64.whl (10.6 MB)\n",
       "</pre>\n"
      ],
      "text/plain": [
       "Downloading scikit_learn-1.4.1.post1-cp311-cp311-win_amd64.whl (10.6 MB)\n"
      ]
     },
     "metadata": {},
     "output_type": "display_data"
    },
    {
     "data": {
      "application/vnd.jupyter.widget-view+json": {
       "model_id": "875c9425d6884956a41d68cdb2478dfd",
       "version_major": 2,
       "version_minor": 0
      },
      "text/plain": [
       "Output()"
      ]
     },
     "metadata": {},
     "output_type": "display_data"
    },
    {
     "data": {
      "text/html": [
       "<pre style=\"white-space:pre;overflow-x:auto;line-height:normal;font-family:Menlo,'DejaVu Sans Mono',consolas,'Courier New',monospace\"></pre>\n"
      ],
      "text/plain": []
     },
     "metadata": {},
     "output_type": "display_data"
    },
    {
     "data": {
      "text/html": [
       "<pre style=\"white-space:pre;overflow-x:auto;line-height:normal;font-family:Menlo,'DejaVu Sans Mono',consolas,'Courier New',monospace\">\n",
       "</pre>\n"
      ],
      "text/plain": [
       "\n"
      ]
     },
     "metadata": {},
     "output_type": "display_data"
    },
    {
     "data": {
      "text/html": [
       "<pre style=\"white-space:pre;overflow-x:auto;line-height:normal;font-family:Menlo,'DejaVu Sans Mono',consolas,'Courier New',monospace\">Downloading simplejson-3.19.2-cp311-cp311-win_amd64.whl (75 kB)\n",
       "</pre>\n"
      ],
      "text/plain": [
       "Downloading simplejson-3.19.2-cp311-cp311-win_amd64.whl (75 kB)\n"
      ]
     },
     "metadata": {},
     "output_type": "display_data"
    },
    {
     "data": {
      "application/vnd.jupyter.widget-view+json": {
       "model_id": "45b0e755ccf94fe1a1f06123fcf2d8ce",
       "version_major": 2,
       "version_minor": 0
      },
      "text/plain": [
       "Output()"
      ]
     },
     "metadata": {},
     "output_type": "display_data"
    },
    {
     "data": {
      "text/html": [
       "<pre style=\"white-space:pre;overflow-x:auto;line-height:normal;font-family:Menlo,'DejaVu Sans Mono',consolas,'Courier New',monospace\"></pre>\n"
      ],
      "text/plain": []
     },
     "metadata": {},
     "output_type": "display_data"
    },
    {
     "data": {
      "text/html": [
       "<pre style=\"white-space:pre;overflow-x:auto;line-height:normal;font-family:Menlo,'DejaVu Sans Mono',consolas,'Courier New',monospace\">\n",
       "</pre>\n"
      ],
      "text/plain": [
       "\n"
      ]
     },
     "metadata": {},
     "output_type": "display_data"
    },
    {
     "data": {
      "text/html": [
       "<pre style=\"white-space:pre;overflow-x:auto;line-height:normal;font-family:Menlo,'DejaVu Sans Mono',consolas,'Courier New',monospace\">Downloading textblob-0.18.0.post0-py3-none-any.whl (626 kB)\n",
       "</pre>\n"
      ],
      "text/plain": [
       "Downloading textblob-0.18.0.post0-py3-none-any.whl (626 kB)\n"
      ]
     },
     "metadata": {},
     "output_type": "display_data"
    },
    {
     "data": {
      "application/vnd.jupyter.widget-view+json": {
       "model_id": "72da7dc20f3c469a9e0b80e9472be659",
       "version_major": 2,
       "version_minor": 0
      },
      "text/plain": [
       "Output()"
      ]
     },
     "metadata": {},
     "output_type": "display_data"
    },
    {
     "data": {
      "text/html": [
       "<pre style=\"white-space:pre;overflow-x:auto;line-height:normal;font-family:Menlo,'DejaVu Sans Mono',consolas,'Courier New',monospace\"></pre>\n"
      ],
      "text/plain": []
     },
     "metadata": {},
     "output_type": "display_data"
    },
    {
     "data": {
      "text/html": [
       "<pre style=\"white-space:pre;overflow-x:auto;line-height:normal;font-family:Menlo,'DejaVu Sans Mono',consolas,'Courier New',monospace\">\n",
       "</pre>\n"
      ],
      "text/plain": [
       "\n"
      ]
     },
     "metadata": {},
     "output_type": "display_data"
    },
    {
     "data": {
      "text/html": [
       "<pre style=\"white-space:pre;overflow-x:auto;line-height:normal;font-family:Menlo,'DejaVu Sans Mono',consolas,'Courier New',monospace\">Downloading twisted-24.3.0-py3-none-any.whl (3.2 MB)\n",
       "</pre>\n"
      ],
      "text/plain": [
       "Downloading twisted-24.3.0-py3-none-any.whl (3.2 MB)\n"
      ]
     },
     "metadata": {},
     "output_type": "display_data"
    },
    {
     "data": {
      "application/vnd.jupyter.widget-view+json": {
       "model_id": "c0131633b2d142288dbf7fc87b09585c",
       "version_major": 2,
       "version_minor": 0
      },
      "text/plain": [
       "Output()"
      ]
     },
     "metadata": {},
     "output_type": "display_data"
    },
    {
     "data": {
      "text/html": [
       "<pre style=\"white-space:pre;overflow-x:auto;line-height:normal;font-family:Menlo,'DejaVu Sans Mono',consolas,'Courier New',monospace\"></pre>\n"
      ],
      "text/plain": []
     },
     "metadata": {},
     "output_type": "display_data"
    },
    {
     "data": {
      "text/html": [
       "<pre style=\"white-space:pre;overflow-x:auto;line-height:normal;font-family:Menlo,'DejaVu Sans Mono',consolas,'Courier New',monospace\">\n",
       "</pre>\n"
      ],
      "text/plain": [
       "\n"
      ]
     },
     "metadata": {},
     "output_type": "display_data"
    },
    {
     "data": {
      "text/html": [
       "<pre style=\"white-space:pre;overflow-x:auto;line-height:normal;font-family:Menlo,'DejaVu Sans Mono',consolas,'Courier New',monospace\">Downloading Automat-22.10.0-py2.py3-none-any.whl (26 kB)\n",
       "</pre>\n"
      ],
      "text/plain": [
       "Downloading Automat-22.10.0-py2.py3-none-any.whl (26 kB)\n"
      ]
     },
     "metadata": {},
     "output_type": "display_data"
    },
    {
     "data": {
      "text/html": [
       "<pre style=\"white-space:pre;overflow-x:auto;line-height:normal;font-family:Menlo,'DejaVu Sans Mono',consolas,'Courier New',monospace\">Downloading constantly-23.10.4-py3-none-any.whl (13 kB)\n",
       "</pre>\n"
      ],
      "text/plain": [
       "Downloading constantly-23.10.4-py3-none-any.whl (13 kB)\n"
      ]
     },
     "metadata": {},
     "output_type": "display_data"
    },
    {
     "data": {
      "text/html": [
       "<pre style=\"white-space:pre;overflow-x:auto;line-height:normal;font-family:Menlo,'DejaVu Sans Mono',consolas,'Courier New',monospace\">Downloading cryptography-42.0.5-cp39-abi3-win_amd64.whl (2.9 MB)\n",
       "</pre>\n"
      ],
      "text/plain": [
       "Downloading cryptography-42.0.5-cp39-abi3-win_amd64.whl (2.9 MB)\n"
      ]
     },
     "metadata": {},
     "output_type": "display_data"
    },
    {
     "data": {
      "application/vnd.jupyter.widget-view+json": {
       "model_id": "280a8f2e2bb84cf497d83de97966acac",
       "version_major": 2,
       "version_minor": 0
      },
      "text/plain": [
       "Output()"
      ]
     },
     "metadata": {},
     "output_type": "display_data"
    },
    {
     "data": {
      "text/html": [
       "<pre style=\"white-space:pre;overflow-x:auto;line-height:normal;font-family:Menlo,'DejaVu Sans Mono',consolas,'Courier New',monospace\"></pre>\n"
      ],
      "text/plain": []
     },
     "metadata": {},
     "output_type": "display_data"
    },
    {
     "data": {
      "text/html": [
       "<pre style=\"white-space:pre;overflow-x:auto;line-height:normal;font-family:Menlo,'DejaVu Sans Mono',consolas,'Courier New',monospace\">\n",
       "</pre>\n"
      ],
      "text/plain": [
       "\n"
      ]
     },
     "metadata": {},
     "output_type": "display_data"
    },
    {
     "data": {
      "text/html": [
       "<pre style=\"white-space:pre;overflow-x:auto;line-height:normal;font-family:Menlo,'DejaVu Sans Mono',consolas,'Courier New',monospace\">Downloading hyperlink-21.0.0-py2.py3-none-any.whl (74 kB)\n",
       "</pre>\n"
      ],
      "text/plain": [
       "Downloading hyperlink-21.0.0-py2.py3-none-any.whl (74 kB)\n"
      ]
     },
     "metadata": {},
     "output_type": "display_data"
    },
    {
     "data": {
      "application/vnd.jupyter.widget-view+json": {
       "model_id": "700cc0866da3465d8e0836230d2ef5d3",
       "version_major": 2,
       "version_minor": 0
      },
      "text/plain": [
       "Output()"
      ]
     },
     "metadata": {},
     "output_type": "display_data"
    },
    {
     "data": {
      "text/html": [
       "<pre style=\"white-space:pre;overflow-x:auto;line-height:normal;font-family:Menlo,'DejaVu Sans Mono',consolas,'Courier New',monospace\"></pre>\n"
      ],
      "text/plain": []
     },
     "metadata": {},
     "output_type": "display_data"
    },
    {
     "data": {
      "text/html": [
       "<pre style=\"white-space:pre;overflow-x:auto;line-height:normal;font-family:Menlo,'DejaVu Sans Mono',consolas,'Courier New',monospace\">\n",
       "</pre>\n"
      ],
      "text/plain": [
       "\n"
      ]
     },
     "metadata": {},
     "output_type": "display_data"
    },
    {
     "data": {
      "text/html": [
       "<pre style=\"white-space:pre;overflow-x:auto;line-height:normal;font-family:Menlo,'DejaVu Sans Mono',consolas,'Courier New',monospace\">Downloading incremental-22.10.0-py2.py3-none-any.whl (16 kB)\n",
       "</pre>\n"
      ],
      "text/plain": [
       "Downloading incremental-22.10.0-py2.py3-none-any.whl (16 kB)\n"
      ]
     },
     "metadata": {},
     "output_type": "display_data"
    },
    {
     "data": {
      "text/html": [
       "<pre style=\"white-space:pre;overflow-x:auto;line-height:normal;font-family:Menlo,'DejaVu Sans Mono',consolas,'Courier New',monospace\">Downloading joblib-1.3.2-py3-none-any.whl (302 kB)\n",
       "</pre>\n"
      ],
      "text/plain": [
       "Downloading joblib-1.3.2-py3-none-any.whl (302 kB)\n"
      ]
     },
     "metadata": {},
     "output_type": "display_data"
    },
    {
     "data": {
      "application/vnd.jupyter.widget-view+json": {
       "model_id": "267c485c8b5541ecb69e2946cbaa617c",
       "version_major": 2,
       "version_minor": 0
      },
      "text/plain": [
       "Output()"
      ]
     },
     "metadata": {},
     "output_type": "display_data"
    },
    {
     "data": {
      "text/html": [
       "<pre style=\"white-space:pre;overflow-x:auto;line-height:normal;font-family:Menlo,'DejaVu Sans Mono',consolas,'Courier New',monospace\"></pre>\n"
      ],
      "text/plain": []
     },
     "metadata": {},
     "output_type": "display_data"
    },
    {
     "data": {
      "text/html": [
       "<pre style=\"white-space:pre;overflow-x:auto;line-height:normal;font-family:Menlo,'DejaVu Sans Mono',consolas,'Courier New',monospace\">\n",
       "</pre>\n"
      ],
      "text/plain": [
       "\n"
      ]
     },
     "metadata": {},
     "output_type": "display_data"
    },
    {
     "data": {
      "text/html": [
       "<pre style=\"white-space:pre;overflow-x:auto;line-height:normal;font-family:Menlo,'DejaVu Sans Mono',consolas,'Courier New',monospace\">Downloading pluggy-1.4.0-py3-none-any.whl (20 kB)\n",
       "</pre>\n"
      ],
      "text/plain": [
       "Downloading pluggy-1.4.0-py3-none-any.whl (20 kB)\n"
      ]
     },
     "metadata": {},
     "output_type": "display_data"
    },
    {
     "data": {
      "text/html": [
       "<pre style=\"white-space:pre;overflow-x:auto;line-height:normal;font-family:Menlo,'DejaVu Sans Mono',consolas,'Courier New',monospace\">Downloading regex-2023.12.25-cp311-cp311-win_amd64.whl (269 kB)\n",
       "</pre>\n"
      ],
      "text/plain": [
       "Downloading regex-2023.12.25-cp311-cp311-win_amd64.whl (269 kB)\n"
      ]
     },
     "metadata": {},
     "output_type": "display_data"
    },
    {
     "data": {
      "application/vnd.jupyter.widget-view+json": {
       "model_id": "a12a2fa3be584e48af34c9f90694cbf1",
       "version_major": 2,
       "version_minor": 0
      },
      "text/plain": [
       "Output()"
      ]
     },
     "metadata": {},
     "output_type": "display_data"
    },
    {
     "data": {
      "text/html": [
       "<pre style=\"white-space:pre;overflow-x:auto;line-height:normal;font-family:Menlo,'DejaVu Sans Mono',consolas,'Courier New',monospace\"></pre>\n"
      ],
      "text/plain": []
     },
     "metadata": {},
     "output_type": "display_data"
    },
    {
     "data": {
      "text/html": [
       "<pre style=\"white-space:pre;overflow-x:auto;line-height:normal;font-family:Menlo,'DejaVu Sans Mono',consolas,'Courier New',monospace\">\n",
       "</pre>\n"
      ],
      "text/plain": [
       "\n"
      ]
     },
     "metadata": {},
     "output_type": "display_data"
    },
    {
     "data": {
      "text/html": [
       "<pre style=\"white-space:pre;overflow-x:auto;line-height:normal;font-family:Menlo,'DejaVu Sans Mono',consolas,'Courier New',monospace\">Downloading sortedcontainers-2.4.0-py2.py3-none-any.whl (29 kB)\n",
       "</pre>\n"
      ],
      "text/plain": [
       "Downloading sortedcontainers-2.4.0-py2.py3-none-any.whl (29 kB)\n"
      ]
     },
     "metadata": {},
     "output_type": "display_data"
    },
    {
     "data": {
      "text/html": [
       "<pre style=\"white-space:pre;overflow-x:auto;line-height:normal;font-family:Menlo,'DejaVu Sans Mono',consolas,'Courier New',monospace\">Downloading threadpoolctl-3.4.0-py3-none-any.whl (17 kB)\n",
       "</pre>\n"
      ],
      "text/plain": [
       "Downloading threadpoolctl-3.4.0-py3-none-any.whl (17 kB)\n"
      ]
     },
     "metadata": {},
     "output_type": "display_data"
    },
    {
     "data": {
      "text/html": [
       "<pre style=\"white-space:pre;overflow-x:auto;line-height:normal;font-family:Menlo,'DejaVu Sans Mono',consolas,'Courier New',monospace\">Downloading twisted_iocpsupport-1.0.4-cp311-cp311-win_amd64.whl (47 kB)\n",
       "</pre>\n"
      ],
      "text/plain": [
       "Downloading twisted_iocpsupport-1.0.4-cp311-cp311-win_amd64.whl (47 kB)\n"
      ]
     },
     "metadata": {},
     "output_type": "display_data"
    },
    {
     "data": {
      "application/vnd.jupyter.widget-view+json": {
       "model_id": "eb6ab96822184b09a951c0ac7203e64d",
       "version_major": 2,
       "version_minor": 0
      },
      "text/plain": [
       "Output()"
      ]
     },
     "metadata": {},
     "output_type": "display_data"
    },
    {
     "data": {
      "text/html": [
       "<pre style=\"white-space:pre;overflow-x:auto;line-height:normal;font-family:Menlo,'DejaVu Sans Mono',consolas,'Courier New',monospace\"></pre>\n"
      ],
      "text/plain": []
     },
     "metadata": {},
     "output_type": "display_data"
    },
    {
     "data": {
      "text/html": [
       "<pre style=\"white-space:pre;overflow-x:auto;line-height:normal;font-family:Menlo,'DejaVu Sans Mono',consolas,'Courier New',monospace\">\n",
       "</pre>\n"
      ],
      "text/plain": [
       "\n"
      ]
     },
     "metadata": {},
     "output_type": "display_data"
    },
    {
     "data": {
      "text/html": [
       "<pre style=\"white-space:pre;overflow-x:auto;line-height:normal;font-family:Menlo,'DejaVu Sans Mono',consolas,'Courier New',monospace\">Downloading typing_extensions-4.10.0-py3-none-any.whl (33 kB)\n",
       "</pre>\n"
      ],
      "text/plain": [
       "Downloading typing_extensions-4.10.0-py3-none-any.whl (33 kB)\n"
      ]
     },
     "metadata": {},
     "output_type": "display_data"
    },
    {
     "data": {
      "text/html": [
       "<pre style=\"white-space:pre;overflow-x:auto;line-height:normal;font-family:Menlo,'DejaVu Sans Mono',consolas,'Courier New',monospace\">Downloading zope.interface-6.2-cp311-cp311-win_amd64.whl (204 kB)\n",
       "</pre>\n"
      ],
      "text/plain": [
       "Downloading zope.interface-6.2-cp311-cp311-win_amd64.whl (204 kB)\n"
      ]
     },
     "metadata": {},
     "output_type": "display_data"
    },
    {
     "data": {
      "application/vnd.jupyter.widget-view+json": {
       "model_id": "87aefc3ba2504f1e814faae5ca5946e4",
       "version_major": 2,
       "version_minor": 0
      },
      "text/plain": [
       "Output()"
      ]
     },
     "metadata": {},
     "output_type": "display_data"
    },
    {
     "data": {
      "text/html": [
       "<pre style=\"white-space:pre;overflow-x:auto;line-height:normal;font-family:Menlo,'DejaVu Sans Mono',consolas,'Courier New',monospace\"></pre>\n"
      ],
      "text/plain": []
     },
     "metadata": {},
     "output_type": "display_data"
    },
    {
     "data": {
      "text/html": [
       "<pre style=\"white-space:pre;overflow-x:auto;line-height:normal;font-family:Menlo,'DejaVu Sans Mono',consolas,'Courier New',monospace\">\n",
       "</pre>\n"
      ],
      "text/plain": [
       "\n"
      ]
     },
     "metadata": {},
     "output_type": "display_data"
    },
    {
     "data": {
      "text/html": [
       "<pre style=\"white-space:pre;overflow-x:auto;line-height:normal;font-family:Menlo,'DejaVu Sans Mono',consolas,'Courier New',monospace\">Downloading iniconfig-2.0.0-py3-none-any.whl (5.9 kB)\n",
       "</pre>\n"
      ],
      "text/plain": [
       "Downloading iniconfig-2.0.0-py3-none-any.whl (5.9 kB)\n"
      ]
     },
     "metadata": {},
     "output_type": "display_data"
    },
    {
     "data": {
      "text/html": [
       "<pre style=\"white-space:pre;overflow-x:auto;line-height:normal;font-family:Menlo,'DejaVu Sans Mono',consolas,'Courier New',monospace\">Using cached tqdm-4.66.2-py3-none-any.whl (78 kB)\n",
       "</pre>\n"
      ],
      "text/plain": [
       "Using cached tqdm-4.66.2-py3-none-any.whl (78 kB)\n"
      ]
     },
     "metadata": {},
     "output_type": "display_data"
    },
    {
     "data": {
      "text/html": [
       "<pre style=\"white-space:pre;overflow-x:auto;line-height:normal;font-family:Menlo,'DejaVu Sans Mono',consolas,'Courier New',monospace\">Building wheels for collected packages: tabpy, docopt, genson\n",
       "</pre>\n"
      ],
      "text/plain": [
       "Building wheels for collected packages: tabpy, docopt, genson\n"
      ]
     },
     "metadata": {},
     "output_type": "display_data"
    },
    {
     "data": {
      "text/html": [
       "<pre style=\"white-space:pre;overflow-x:auto;line-height:normal;font-family:Menlo,'DejaVu Sans Mono',consolas,'Courier New',monospace\">  Building wheel for tabpy (setup.py): started\n",
       "</pre>\n"
      ],
      "text/plain": [
       "  Building wheel for tabpy (setup.py): started\n"
      ]
     },
     "metadata": {},
     "output_type": "display_data"
    },
    {
     "data": {
      "text/html": [
       "<pre style=\"white-space:pre;overflow-x:auto;line-height:normal;font-family:Menlo,'DejaVu Sans Mono',consolas,'Courier New',monospace\">  Building wheel for tabpy (setup.py): finished with status 'done'\n",
       "</pre>\n"
      ],
      "text/plain": [
       "  Building wheel for tabpy (setup.py): finished with status 'done'\n"
      ]
     },
     "metadata": {},
     "output_type": "display_data"
    },
    {
     "data": {
      "text/html": [
       "<pre style=\"white-space:pre;overflow-x:auto;line-height:normal;font-family:Menlo,'DejaVu Sans Mono',consolas,'Courier New',monospace\">  Created wheel for tabpy: filename=tabpy-2.9.0-py2.py3-none-any.whl size=119177 sha256=24f1ac650b2494aab7595ffe93b979f0801a4500bdf74e582eb4a6b229408b36\n",
       "</pre>\n"
      ],
      "text/plain": [
       "  Created wheel for tabpy: filename=tabpy-2.9.0-py2.py3-none-any.whl size=119177 sha256=24f1ac650b2494aab7595ffe93b979f0801a4500bdf74e582eb4a6b229408b36\n"
      ]
     },
     "metadata": {},
     "output_type": "display_data"
    },
    {
     "data": {
      "text/html": [
       "<pre style=\"white-space:pre;overflow-x:auto;line-height:normal;font-family:Menlo,'DejaVu Sans Mono',consolas,'Courier New',monospace\">  Stored in directory: c:\\users\\alev pc\\appdata\\local\\pip\\cache\\wheels\\03\\bf\\f0\\800a6ac00ef6c0025a09620008e4e2b5cbd8ba0992854f9aaa\n",
       "</pre>\n"
      ],
      "text/plain": [
       "  Stored in directory: c:\\users\\alev pc\\appdata\\local\\pip\\cache\\wheels\\03\\bf\\f0\\800a6ac00ef6c0025a09620008e4e2b5cbd8ba0992854f9aaa\n"
      ]
     },
     "metadata": {},
     "output_type": "display_data"
    },
    {
     "data": {
      "text/html": [
       "<pre style=\"white-space:pre;overflow-x:auto;line-height:normal;font-family:Menlo,'DejaVu Sans Mono',consolas,'Courier New',monospace\">  Building wheel for docopt (setup.py): started\n",
       "</pre>\n"
      ],
      "text/plain": [
       "  Building wheel for docopt (setup.py): started\n"
      ]
     },
     "metadata": {},
     "output_type": "display_data"
    },
    {
     "data": {
      "text/html": [
       "<pre style=\"white-space:pre;overflow-x:auto;line-height:normal;font-family:Menlo,'DejaVu Sans Mono',consolas,'Courier New',monospace\">  Building wheel for docopt (setup.py): finished with status 'done'\n",
       "</pre>\n"
      ],
      "text/plain": [
       "  Building wheel for docopt (setup.py): finished with status 'done'\n"
      ]
     },
     "metadata": {},
     "output_type": "display_data"
    },
    {
     "data": {
      "text/html": [
       "<pre style=\"white-space:pre;overflow-x:auto;line-height:normal;font-family:Menlo,'DejaVu Sans Mono',consolas,'Courier New',monospace\">  Created wheel for docopt: filename=docopt-0.6.2-py2.py3-none-any.whl size=13773 sha256=310c2757060dde8f73f6f87c558a9c3f7b1c8fca60789b1e46388fbf8a6be6fa\n",
       "</pre>\n"
      ],
      "text/plain": [
       "  Created wheel for docopt: filename=docopt-0.6.2-py2.py3-none-any.whl size=13773 sha256=310c2757060dde8f73f6f87c558a9c3f7b1c8fca60789b1e46388fbf8a6be6fa\n"
      ]
     },
     "metadata": {},
     "output_type": "display_data"
    },
    {
     "data": {
      "text/html": [
       "<pre style=\"white-space:pre;overflow-x:auto;line-height:normal;font-family:Menlo,'DejaVu Sans Mono',consolas,'Courier New',monospace\">  Stored in directory: c:\\users\\alev pc\\appdata\\local\\pip\\cache\\wheels\\1a\\b0\\8c\\4b75c4116c31f83c8f9f047231251e13cc74481cca4a78a9ce\n",
       "</pre>\n"
      ],
      "text/plain": [
       "  Stored in directory: c:\\users\\alev pc\\appdata\\local\\pip\\cache\\wheels\\1a\\b0\\8c\\4b75c4116c31f83c8f9f047231251e13cc74481cca4a78a9ce\n"
      ]
     },
     "metadata": {},
     "output_type": "display_data"
    },
    {
     "data": {
      "text/html": [
       "<pre style=\"white-space:pre;overflow-x:auto;line-height:normal;font-family:Menlo,'DejaVu Sans Mono',consolas,'Courier New',monospace\">  Building wheel for genson (setup.py): started\n",
       "</pre>\n"
      ],
      "text/plain": [
       "  Building wheel for genson (setup.py): started\n"
      ]
     },
     "metadata": {},
     "output_type": "display_data"
    },
    {
     "data": {
      "text/html": [
       "<pre style=\"white-space:pre;overflow-x:auto;line-height:normal;font-family:Menlo,'DejaVu Sans Mono',consolas,'Courier New',monospace\">  Building wheel for genson (setup.py): finished with status 'done'\n",
       "</pre>\n"
      ],
      "text/plain": [
       "  Building wheel for genson (setup.py): finished with status 'done'\n"
      ]
     },
     "metadata": {},
     "output_type": "display_data"
    },
    {
     "data": {
      "text/html": [
       "<pre style=\"white-space:pre;overflow-x:auto;line-height:normal;font-family:Menlo,'DejaVu Sans Mono',consolas,'Courier New',monospace\">  Created wheel for genson: filename=genson-1.2.2-py2.py3-none-any.whl size=21331 sha256=7dd3e463edbfb91ea374ac698e68f3757e8f88a3ec74ef96fa95721254364c67\n",
       "</pre>\n"
      ],
      "text/plain": [
       "  Created wheel for genson: filename=genson-1.2.2-py2.py3-none-any.whl size=21331 sha256=7dd3e463edbfb91ea374ac698e68f3757e8f88a3ec74ef96fa95721254364c67\n"
      ]
     },
     "metadata": {},
     "output_type": "display_data"
    },
    {
     "data": {
      "text/html": [
       "<pre style=\"white-space:pre;overflow-x:auto;line-height:normal;font-family:Menlo,'DejaVu Sans Mono',consolas,'Courier New',monospace\">  Stored in directory: c:\\users\\alev pc\\appdata\\local\\pip\\cache\\wheels\\ca\\d7\\bb\\a60f7f87f819e362287003f607d7ed63c13c210f72358eb1e3\n",
       "</pre>\n"
      ],
      "text/plain": [
       "  Stored in directory: c:\\users\\alev pc\\appdata\\local\\pip\\cache\\wheels\\ca\\d7\\bb\\a60f7f87f819e362287003f607d7ed63c13c210f72358eb1e3\n"
      ]
     },
     "metadata": {},
     "output_type": "display_data"
    },
    {
     "data": {
      "text/html": [
       "<pre style=\"white-space:pre;overflow-x:auto;line-height:normal;font-family:Menlo,'DejaVu Sans Mono',consolas,'Courier New',monospace\">Successfully built tabpy docopt genson\n",
       "</pre>\n"
      ],
      "text/plain": [
       "Successfully built tabpy docopt genson\n"
      ]
     },
     "metadata": {},
     "output_type": "display_data"
    },
    {
     "data": {
      "text/html": [
       "<pre style=\"white-space:pre;overflow-x:auto;line-height:normal;font-family:Menlo,'DejaVu Sans Mono',consolas,'Courier New',monospace\">Installing collected packages: twisted-iocpsupport, sortedcontainers, incremental, genson, docopt, zope-interface, typing-extensions, tqdm, threadpoolctl, simplejson, regex, pyarrow, pluggy, mock, joblib, iniconfig, hypothesis, hyperlink, future, coverage, constantly, configparser, cloudpickle, automat, twisted, scikit-learn, pytest, nltk, cryptography, coveralls, textblob, pytest-cov, pyopenssl, tabpy\n",
       "</pre>\n"
      ],
      "text/plain": [
       "Installing collected packages: twisted-iocpsupport, sortedcontainers, incremental, genson, docopt, zope-interface, typing-extensions, tqdm, threadpoolctl, simplejson, regex, pyarrow, pluggy, mock, joblib, iniconfig, hypothesis, hyperlink, future, coverage, constantly, configparser, cloudpickle, automat, twisted, scikit-learn, pytest, nltk, cryptography, coveralls, textblob, pytest-cov, pyopenssl, tabpy\n"
      ]
     },
     "metadata": {},
     "output_type": "display_data"
    },
    {
     "data": {
      "text/html": [
       "<pre style=\"white-space:pre;overflow-x:auto;line-height:normal;font-family:Menlo,'DejaVu Sans Mono',consolas,'Courier New',monospace\">Successfully installed automat-22.10.0 cloudpickle-3.0.0 configparser-6.0.1 constantly-23.10.4 coverage-6.5.0 coveralls-3.3.1 cryptography-42.0.5 docopt-0.6.2 future-1.0.0 genson-1.2.2 hyperlink-21.0.0 hypothesis-6.99.13 incremental-22.10.0 iniconfig-2.0.0 joblib-1.3.2 mock-5.1.0 nltk-3.8.1 pluggy-1.4.0 pyarrow-15.0.2 pyopenssl-24.1.0 pytest-8.1.1 pytest-cov-5.0.0 regex-2023.12.25 scikit-learn-1.4.1.post1 simplejson-3.19.2 sortedcontainers-2.4.0 tabpy-2.9.0 textblob-0.18.0.post0 threadpoolctl-3.4.0 tqdm-4.66.2 twisted-24.3.0 twisted-iocpsupport-1.0.4 typing-extensions-4.10.0 zope-interface-6.2\n",
       "</pre>\n"
      ],
      "text/plain": [
       "Successfully installed automat-22.10.0 cloudpickle-3.0.0 configparser-6.0.1 constantly-23.10.4 coverage-6.5.0 coveralls-3.3.1 cryptography-42.0.5 docopt-0.6.2 future-1.0.0 genson-1.2.2 hyperlink-21.0.0 hypothesis-6.99.13 incremental-22.10.0 iniconfig-2.0.0 joblib-1.3.2 mock-5.1.0 nltk-3.8.1 pluggy-1.4.0 pyarrow-15.0.2 pyopenssl-24.1.0 pytest-8.1.1 pytest-cov-5.0.0 regex-2023.12.25 scikit-learn-1.4.1.post1 simplejson-3.19.2 sortedcontainers-2.4.0 tabpy-2.9.0 textblob-0.18.0.post0 threadpoolctl-3.4.0 tqdm-4.66.2 twisted-24.3.0 twisted-iocpsupport-1.0.4 typing-extensions-4.10.0 zope-interface-6.2\n"
      ]
     },
     "metadata": {},
     "output_type": "display_data"
    }
   ],
   "source": [
    "import pip\n",
    "\n",
    "def install(package):\n",
    "    pip.main(['install', package])\n",
    "\n",
    "# Install tabpy\n",
    "install('tabpy')\n",
    "\n"
   ]
  },
  {
   "cell_type": "code",
   "execution_count": null,
   "id": "96ff63c5-0be5-44ef-acbb-4f5c574034d4",
   "metadata": {},
   "outputs": [],
   "source": [
    "KPIs "
   ]
  },
  {
   "cell_type": "code",
   "execution_count": 1,
   "id": "57ec7913-9499-4352-9746-45c8aac2d130",
   "metadata": {},
   "outputs": [
    {
     "name": "stdout",
     "output_type": "stream",
     "text": [
      "CSV file created successfully: Time_difference_results.csv\n"
     ]
    }
   ],
   "source": [
    "import csv\n",
    "\n",
    "# Define the data\n",
    "data = [\n",
    "    {\"Variation\": \"Control\", \"Step\": \"start to step_1\", \"Average Time Difference\": \"0 days 00:00:50\"},\n",
    "    {\"Variation\": \"Control\", \"Step\": \"step_1 to step_2\", \"Average Time Difference\": \"0 days 00:01:31\"},\n",
    "    {\"Variation\": \"Control\", \"Step\": \"step_2 to step_3\", \"Average Time Difference\": \"0 days 00:02:15\"},\n",
    "    {\"Variation\": \"Control\", \"Step\": \"step_3 to confirm\", \"Average Time Difference\": \"0 days 00:01:52\"},\n",
    "    {\"Variation\": \"Control\", \"Step\": \"start to confirm\", \"Average Time Difference\": \"0 days 00:01:52\"},\n",
    "    {\"Variation\": \"Test\", \"Step\": \"start to step_1\", \"Average Time Difference\": \"0 days 00:01:00\"},\n",
    "    {\"Variation\": \"Test\", \"Step\": \"step_1 to step_2\", \"Average Time Difference\": \"0 days 00:01:28\"},\n",
    "    {\"Variation\": \"Test\", \"Step\": \"step_2 to step_3\", \"Average Time Difference\": \"0 days 00:02:09\"},\n",
    "    {\"Variation\": \"Test\", \"Step\": \"step_3 to confirm\", \"Average Time Difference\": \"0 days 00:03:32\"},\n",
    "    {\"Variation\": \"Test\", \"Step\": \"start to confirm\", \"Average Time Difference\": \"0 days 00:03:32\"}\n",
    "]\n",
    "\n",
    "# Define the CSV file path\n",
    "csv_file_path = \"Time_difference_results.csv\"\n",
    "\n",
    "# Write data to CSV file\n",
    "with open(csv_file_path, \"w\", newline=\"\") as csv_file:\n",
    "    writer = csv.DictWriter(csv_file, fieldnames=[\"Variation\", \"Step\", \"Average Time Difference\"])\n",
    "    writer.writeheader()\n",
    "    writer.writerows(data)\n",
    "\n",
    "print(\"CSV file created successfully:\", csv_file_path)\n"
   ]
  },
  {
   "cell_type": "code",
   "execution_count": null,
   "id": "253989e0-941b-4b00-a549-6140ed192072",
   "metadata": {},
   "outputs": [],
   "source": []
  }
 ],
 "metadata": {
  "kernelspec": {
   "display_name": "Python 3 (ipykernel)",
   "language": "python",
   "name": "python3"
  },
  "language_info": {
   "codemirror_mode": {
    "name": "ipython",
    "version": 3
   },
   "file_extension": ".py",
   "mimetype": "text/x-python",
   "name": "python",
   "nbconvert_exporter": "python",
   "pygments_lexer": "ipython3",
   "version": "3.11.5"
  }
 },
 "nbformat": 4,
 "nbformat_minor": 5
}
