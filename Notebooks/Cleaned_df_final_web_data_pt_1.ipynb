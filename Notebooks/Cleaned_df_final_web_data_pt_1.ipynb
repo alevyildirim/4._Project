{
 "cells": [
  {
   "cell_type": "markdown",
   "id": "8fdcd557-097d-4b88-9a2b-e5ef9de0f284",
   "metadata": {},
   "source": [
    "# Loading libraries"
   ]
  },
  {
   "cell_type": "code",
   "execution_count": 2,
   "id": "667cbcde-ac9b-4651-993d-cb03beedc633",
   "metadata": {},
   "outputs": [],
   "source": [
    "import pandas as pd\n",
    "import matplotlib.pyplot as plt\n",
    "import seaborn as sns"
   ]
  },
  {
   "cell_type": "markdown",
   "id": "43c6da89-3d06-4f4e-9d10-542a74ebbe3b",
   "metadata": {},
   "source": [
    "# Exploring the data"
   ]
  },
  {
   "cell_type": "code",
   "execution_count": 3,
   "id": "50f7df2c-c7d6-4df3-afe7-f225b18dddf6",
   "metadata": {},
   "outputs": [
    {
     "data": {
      "text/html": [
       "<div>\n",
       "<style scoped>\n",
       "    .dataframe tbody tr th:only-of-type {\n",
       "        vertical-align: middle;\n",
       "    }\n",
       "\n",
       "    .dataframe tbody tr th {\n",
       "        vertical-align: top;\n",
       "    }\n",
       "\n",
       "    .dataframe thead th {\n",
       "        text-align: right;\n",
       "    }\n",
       "</style>\n",
       "<table border=\"1\" class=\"dataframe\">\n",
       "  <thead>\n",
       "    <tr style=\"text-align: right;\">\n",
       "      <th></th>\n",
       "      <th>client_id</th>\n",
       "      <th>visitor_id</th>\n",
       "      <th>visit_id</th>\n",
       "      <th>process_step</th>\n",
       "      <th>date_time</th>\n",
       "    </tr>\n",
       "  </thead>\n",
       "  <tbody>\n",
       "    <tr>\n",
       "      <th>0</th>\n",
       "      <td>9988021</td>\n",
       "      <td>580560515_7732621733</td>\n",
       "      <td>781255054_21935453173_531117</td>\n",
       "      <td>step_3</td>\n",
       "      <td>2017-04-17 15:27:07</td>\n",
       "    </tr>\n",
       "    <tr>\n",
       "      <th>1</th>\n",
       "      <td>9988021</td>\n",
       "      <td>580560515_7732621733</td>\n",
       "      <td>781255054_21935453173_531117</td>\n",
       "      <td>step_2</td>\n",
       "      <td>2017-04-17 15:26:51</td>\n",
       "    </tr>\n",
       "    <tr>\n",
       "      <th>2</th>\n",
       "      <td>9988021</td>\n",
       "      <td>580560515_7732621733</td>\n",
       "      <td>781255054_21935453173_531117</td>\n",
       "      <td>step_3</td>\n",
       "      <td>2017-04-17 15:19:22</td>\n",
       "    </tr>\n",
       "    <tr>\n",
       "      <th>3</th>\n",
       "      <td>9988021</td>\n",
       "      <td>580560515_7732621733</td>\n",
       "      <td>781255054_21935453173_531117</td>\n",
       "      <td>step_2</td>\n",
       "      <td>2017-04-17 15:19:13</td>\n",
       "    </tr>\n",
       "    <tr>\n",
       "      <th>4</th>\n",
       "      <td>9988021</td>\n",
       "      <td>580560515_7732621733</td>\n",
       "      <td>781255054_21935453173_531117</td>\n",
       "      <td>step_3</td>\n",
       "      <td>2017-04-17 15:18:04</td>\n",
       "    </tr>\n",
       "    <tr>\n",
       "      <th>...</th>\n",
       "      <td>...</td>\n",
       "      <td>...</td>\n",
       "      <td>...</td>\n",
       "      <td>...</td>\n",
       "      <td>...</td>\n",
       "    </tr>\n",
       "    <tr>\n",
       "      <th>343136</th>\n",
       "      <td>2443347</td>\n",
       "      <td>465784886_73090545671</td>\n",
       "      <td>136329900_10529659391_316129</td>\n",
       "      <td>confirm</td>\n",
       "      <td>2017-03-31 15:15:46</td>\n",
       "    </tr>\n",
       "    <tr>\n",
       "      <th>343137</th>\n",
       "      <td>2443347</td>\n",
       "      <td>465784886_73090545671</td>\n",
       "      <td>136329900_10529659391_316129</td>\n",
       "      <td>step_3</td>\n",
       "      <td>2017-03-31 15:14:53</td>\n",
       "    </tr>\n",
       "    <tr>\n",
       "      <th>343138</th>\n",
       "      <td>2443347</td>\n",
       "      <td>465784886_73090545671</td>\n",
       "      <td>136329900_10529659391_316129</td>\n",
       "      <td>step_2</td>\n",
       "      <td>2017-03-31 15:12:08</td>\n",
       "    </tr>\n",
       "    <tr>\n",
       "      <th>343139</th>\n",
       "      <td>2443347</td>\n",
       "      <td>465784886_73090545671</td>\n",
       "      <td>136329900_10529659391_316129</td>\n",
       "      <td>step_1</td>\n",
       "      <td>2017-03-31 15:11:37</td>\n",
       "    </tr>\n",
       "    <tr>\n",
       "      <th>343140</th>\n",
       "      <td>2443347</td>\n",
       "      <td>465784886_73090545671</td>\n",
       "      <td>136329900_10529659391_316129</td>\n",
       "      <td>start</td>\n",
       "      <td>2017-03-31 15:10:47</td>\n",
       "    </tr>\n",
       "  </tbody>\n",
       "</table>\n",
       "<p>343141 rows × 5 columns</p>\n",
       "</div>"
      ],
      "text/plain": [
       "        client_id             visitor_id                      visit_id  \\\n",
       "0         9988021   580560515_7732621733  781255054_21935453173_531117   \n",
       "1         9988021   580560515_7732621733  781255054_21935453173_531117   \n",
       "2         9988021   580560515_7732621733  781255054_21935453173_531117   \n",
       "3         9988021   580560515_7732621733  781255054_21935453173_531117   \n",
       "4         9988021   580560515_7732621733  781255054_21935453173_531117   \n",
       "...           ...                    ...                           ...   \n",
       "343136    2443347  465784886_73090545671  136329900_10529659391_316129   \n",
       "343137    2443347  465784886_73090545671  136329900_10529659391_316129   \n",
       "343138    2443347  465784886_73090545671  136329900_10529659391_316129   \n",
       "343139    2443347  465784886_73090545671  136329900_10529659391_316129   \n",
       "343140    2443347  465784886_73090545671  136329900_10529659391_316129   \n",
       "\n",
       "       process_step            date_time  \n",
       "0            step_3  2017-04-17 15:27:07  \n",
       "1            step_2  2017-04-17 15:26:51  \n",
       "2            step_3  2017-04-17 15:19:22  \n",
       "3            step_2  2017-04-17 15:19:13  \n",
       "4            step_3  2017-04-17 15:18:04  \n",
       "...             ...                  ...  \n",
       "343136      confirm  2017-03-31 15:15:46  \n",
       "343137       step_3  2017-03-31 15:14:53  \n",
       "343138       step_2  2017-03-31 15:12:08  \n",
       "343139       step_1  2017-03-31 15:11:37  \n",
       "343140        start  2017-03-31 15:10:47  \n",
       "\n",
       "[343141 rows x 5 columns]"
      ]
     },
     "execution_count": 3,
     "metadata": {},
     "output_type": "execute_result"
    }
   ],
   "source": [
    "file_path = r'C:\\Users\\ALEV PC\\Desktop\\Project\\Data\\Raw data\\df_final_web_data_pt_1.txt'\n",
    "df = pd.read_csv(file_path)\n",
    "df"
   ]
  },
  {
   "cell_type": "code",
   "execution_count": 4,
   "id": "9691b3a6-ed2a-4baa-9661-ddab88ca000b",
   "metadata": {},
   "outputs": [
    {
     "name": "stdout",
     "output_type": "stream",
     "text": [
      "client_id       0\n",
      "visitor_id      0\n",
      "visit_id        0\n",
      "process_step    0\n",
      "date_time       0\n",
      "dtype: int64\n"
     ]
    }
   ],
   "source": [
    "print(df.isnull().sum())  \n"
   ]
  },
  {
   "cell_type": "code",
   "execution_count": 5,
   "id": "82cf08ed-5f4d-4637-9121-7df6fa48047a",
   "metadata": {},
   "outputs": [
    {
     "name": "stdout",
     "output_type": "stream",
     "text": [
      "process_step\n",
      "start      108910\n",
      "step_1      73432\n",
      "step_2      61768\n",
      "step_3      53628\n",
      "confirm     45403\n",
      "Name: count, dtype: int64\n"
     ]
    }
   ],
   "source": [
    "process_step_counts = df['process_step'].value_counts()\n",
    "print(process_step_counts)"
   ]
  },
  {
   "cell_type": "markdown",
   "id": "f311abae-1b31-4449-aceb-a6d53eb46b84",
   "metadata": {},
   "source": [
    "# Data cleaning"
   ]
  },
  {
   "cell_type": "code",
   "execution_count": 7,
   "id": "147b4081-eeac-40fb-b8fe-32fe4feb643b",
   "metadata": {},
   "outputs": [
    {
     "data": {
      "text/html": [
       "<div>\n",
       "<style scoped>\n",
       "    .dataframe tbody tr th:only-of-type {\n",
       "        vertical-align: middle;\n",
       "    }\n",
       "\n",
       "    .dataframe tbody tr th {\n",
       "        vertical-align: top;\n",
       "    }\n",
       "\n",
       "    .dataframe thead th {\n",
       "        text-align: right;\n",
       "    }\n",
       "</style>\n",
       "<table border=\"1\" class=\"dataframe\">\n",
       "  <thead>\n",
       "    <tr style=\"text-align: right;\">\n",
       "      <th></th>\n",
       "      <th>client_id</th>\n",
       "      <th>visitor_id</th>\n",
       "      <th>visit_id</th>\n",
       "      <th>process_step</th>\n",
       "      <th>date_time</th>\n",
       "    </tr>\n",
       "  </thead>\n",
       "  <tbody>\n",
       "    <tr>\n",
       "      <th>0</th>\n",
       "      <td>9988021</td>\n",
       "      <td>580560515_7732621733</td>\n",
       "      <td>781255054_21935453173_531117</td>\n",
       "      <td>step_3</td>\n",
       "      <td>2017-04-17 15:27:07</td>\n",
       "    </tr>\n",
       "    <tr>\n",
       "      <th>1</th>\n",
       "      <td>9988021</td>\n",
       "      <td>580560515_7732621733</td>\n",
       "      <td>781255054_21935453173_531117</td>\n",
       "      <td>step_2</td>\n",
       "      <td>2017-04-17 15:26:51</td>\n",
       "    </tr>\n",
       "    <tr>\n",
       "      <th>2</th>\n",
       "      <td>9988021</td>\n",
       "      <td>580560515_7732621733</td>\n",
       "      <td>781255054_21935453173_531117</td>\n",
       "      <td>step_3</td>\n",
       "      <td>2017-04-17 15:19:22</td>\n",
       "    </tr>\n",
       "    <tr>\n",
       "      <th>3</th>\n",
       "      <td>9988021</td>\n",
       "      <td>580560515_7732621733</td>\n",
       "      <td>781255054_21935453173_531117</td>\n",
       "      <td>step_2</td>\n",
       "      <td>2017-04-17 15:19:13</td>\n",
       "    </tr>\n",
       "    <tr>\n",
       "      <th>4</th>\n",
       "      <td>9988021</td>\n",
       "      <td>580560515_7732621733</td>\n",
       "      <td>781255054_21935453173_531117</td>\n",
       "      <td>step_3</td>\n",
       "      <td>2017-04-17 15:18:04</td>\n",
       "    </tr>\n",
       "    <tr>\n",
       "      <th>...</th>\n",
       "      <td>...</td>\n",
       "      <td>...</td>\n",
       "      <td>...</td>\n",
       "      <td>...</td>\n",
       "      <td>...</td>\n",
       "    </tr>\n",
       "    <tr>\n",
       "      <th>343136</th>\n",
       "      <td>2443347</td>\n",
       "      <td>465784886_73090545671</td>\n",
       "      <td>136329900_10529659391_316129</td>\n",
       "      <td>confirm</td>\n",
       "      <td>2017-03-31 15:15:46</td>\n",
       "    </tr>\n",
       "    <tr>\n",
       "      <th>343137</th>\n",
       "      <td>2443347</td>\n",
       "      <td>465784886_73090545671</td>\n",
       "      <td>136329900_10529659391_316129</td>\n",
       "      <td>step_3</td>\n",
       "      <td>2017-03-31 15:14:53</td>\n",
       "    </tr>\n",
       "    <tr>\n",
       "      <th>343138</th>\n",
       "      <td>2443347</td>\n",
       "      <td>465784886_73090545671</td>\n",
       "      <td>136329900_10529659391_316129</td>\n",
       "      <td>step_2</td>\n",
       "      <td>2017-03-31 15:12:08</td>\n",
       "    </tr>\n",
       "    <tr>\n",
       "      <th>343139</th>\n",
       "      <td>2443347</td>\n",
       "      <td>465784886_73090545671</td>\n",
       "      <td>136329900_10529659391_316129</td>\n",
       "      <td>step_1</td>\n",
       "      <td>2017-03-31 15:11:37</td>\n",
       "    </tr>\n",
       "    <tr>\n",
       "      <th>343140</th>\n",
       "      <td>2443347</td>\n",
       "      <td>465784886_73090545671</td>\n",
       "      <td>136329900_10529659391_316129</td>\n",
       "      <td>start</td>\n",
       "      <td>2017-03-31 15:10:47</td>\n",
       "    </tr>\n",
       "  </tbody>\n",
       "</table>\n",
       "<p>341046 rows × 5 columns</p>\n",
       "</div>"
      ],
      "text/plain": [
       "        client_id             visitor_id                      visit_id  \\\n",
       "0         9988021   580560515_7732621733  781255054_21935453173_531117   \n",
       "1         9988021   580560515_7732621733  781255054_21935453173_531117   \n",
       "2         9988021   580560515_7732621733  781255054_21935453173_531117   \n",
       "3         9988021   580560515_7732621733  781255054_21935453173_531117   \n",
       "4         9988021   580560515_7732621733  781255054_21935453173_531117   \n",
       "...           ...                    ...                           ...   \n",
       "343136    2443347  465784886_73090545671  136329900_10529659391_316129   \n",
       "343137    2443347  465784886_73090545671  136329900_10529659391_316129   \n",
       "343138    2443347  465784886_73090545671  136329900_10529659391_316129   \n",
       "343139    2443347  465784886_73090545671  136329900_10529659391_316129   \n",
       "343140    2443347  465784886_73090545671  136329900_10529659391_316129   \n",
       "\n",
       "       process_step            date_time  \n",
       "0            step_3  2017-04-17 15:27:07  \n",
       "1            step_2  2017-04-17 15:26:51  \n",
       "2            step_3  2017-04-17 15:19:22  \n",
       "3            step_2  2017-04-17 15:19:13  \n",
       "4            step_3  2017-04-17 15:18:04  \n",
       "...             ...                  ...  \n",
       "343136      confirm  2017-03-31 15:15:46  \n",
       "343137       step_3  2017-03-31 15:14:53  \n",
       "343138       step_2  2017-03-31 15:12:08  \n",
       "343139       step_1  2017-03-31 15:11:37  \n",
       "343140        start  2017-03-31 15:10:47  \n",
       "\n",
       "[341046 rows x 5 columns]"
      ]
     },
     "execution_count": 7,
     "metadata": {},
     "output_type": "execute_result"
    }
   ],
   "source": [
    "df.drop_duplicates(inplace=True)\n",
    "df"
   ]
  },
  {
   "cell_type": "raw",
   "id": "1540c97f-a678-407c-8734-3e16e09a3935",
   "metadata": {},
   "source": [
    "# Clients are divided in the \"process_step\" column in 4 categories: start, step_1, step_2, Step_3 and confirm. client_id will duplicate when a client \n",
    "followed several steps --> same customer is listed if they started, went through step 1, step 2, step 3 and finally confirmed the changes. \n",
    "\n",
    "We need to clean the data accordingly to see the number of clients who stopped in between these steps. \n"
   ]
  },
  {
   "cell_type": "raw",
   "id": "77796ce2-2ccb-4791-8c8b-eae6d7ad1c0f",
   "metadata": {},
   "source": [
    "# Each client has the same visitor_id and visit_id. In this case, these two columns are redundant. "
   ]
  },
  {
   "cell_type": "raw",
   "id": "57b9ffbe-84a5-40ac-ab7b-becf3e2a5912",
   "metadata": {},
   "source": [
    "# Is client's visit time relevant? --- If the client went to same steps in the same day and close times, it can be relevant."
   ]
  },
  {
   "cell_type": "code",
   "execution_count": 9,
   "id": "47e2470c-c86d-4a37-acad-8398353e43eb",
   "metadata": {},
   "outputs": [
    {
     "data": {
      "image/png": "[encoded data removed]",
      "text/plain": [
       "<Figure size 800x600 with 1 Axes>"
      ]
     },
     "metadata": {},
     "output_type": "display_data"
    }
   ],
   "source": [
    "step_mapping = {'start': 0, 'step_1': 1, 'step_2': 2, 'step_3': 3, 'confirm': 4}\n",
    "df['step_number'] = df['process_step'].map(step_mapping)\n",
    "\n",
    "# Count occurrences of each step\n",
    "step_counts = df['step_number'].value_counts().sort_index()\n",
    "\n",
    "# Plotting the chart\n",
    "plt.figure(figsize=(8, 6))\n",
    "step_counts.plot(kind='bar', color='skyblue')\n",
    "plt.title('Number of Clients at Each Step')\n",
    "plt.xlabel('Step')\n",
    "plt.ylabel('Number of Clients')\n",
    "plt.xticks(range(len(step_counts)), ['Start', 'Step 1', 'Step 2', 'Step 3', 'Confirm'])\n",
    "plt.show()"
   ]
  },
  {
   "cell_type": "code",
   "execution_count": null,
   "id": "ec949b0d-b9bf-463e-af05-d4adbcb5b263",
   "metadata": {},
   "outputs": [],
   "source": []
  },
  {
   "cell_type": "code",
   "execution_count": null,
   "id": "761abe0b-929a-4b89-8813-4cae79a1095c",
   "metadata": {},
   "outputs": [],
   "source": []
  },
  {
   "cell_type": "code",
   "execution_count": null,
   "id": "f9e39077-b540-484a-b1be-c57ea11bf0db",
   "metadata": {},
   "outputs": [],
   "source": []
  },
  {
   "cell_type": "code",
   "execution_count": null,
   "id": "ee62033a-49b9-4c77-92a3-01f490ddad52",
   "metadata": {},
   "outputs": [],
   "source": []
  },
  {
   "cell_type": "code",
   "execution_count": null,
   "id": "6915f461-886d-4117-8972-69725ec0a75b",
   "metadata": {},
   "outputs": [],
   "source": []
  },
  {
   "cell_type": "code",
   "execution_count": null,
   "id": "396b49f5-30ee-4f07-9c67-6d2431fcacb4",
   "metadata": {},
   "outputs": [],
   "source": []
  },
  {
   "cell_type": "code",
   "execution_count": null,
   "id": "336d30b8-a6e2-41b2-907f-19154a82d893",
   "metadata": {},
   "outputs": [],
   "source": []
  },
  {
   "cell_type": "code",
   "execution_count": null,
   "id": "81a7916e-ee31-484e-b914-6ac00f7e5d4f",
   "metadata": {},
   "outputs": [],
   "source": []
  }
 ],
 "metadata": {
  "kernelspec": {
   "display_name": "venv",
   "language": "python",
   "name": "venv"
  },
  "language_info": {
   "codemirror_mode": {
    "name": "ipython",
    "version": 3
   },
   "file_extension": ".py",
   "mimetype": "text/x-python",
   "name": "python",
   "nbconvert_exporter": "python",
   "pygments_lexer": "ipython3",
   "version": "3.11.5"
  }
 },
 "nbformat": 4,
 "nbformat_minor": 5
}
